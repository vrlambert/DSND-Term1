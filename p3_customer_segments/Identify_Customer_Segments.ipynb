{
 "cells": [
  {
   "cell_type": "markdown",
   "metadata": {},
   "source": [
    "# Project: Identify Customer Segments\n",
    "\n",
    "In this project, you will apply unsupervised learning techniques to identify segments of the population that form the core customer base for a mail-order sales company in Germany. These segments can then be used to direct marketing campaigns towards audiences that will have the highest expected rate of returns. The data that you will use has been provided by our partners at Bertelsmann Arvato Analytics, and represents a real-life data science task.\n",
    "\n",
    "This notebook will help you complete this task by providing a framework within which you will perform your analysis steps. In each step of the project, you will see some text describing the subtask that you will perform, followed by one or more code cells for you to complete your work. **Feel free to add additional code and markdown cells as you go along so that you can explore everything in precise chunks.** The code cells provided in the base template will outline only the major tasks, and will usually not be enough to cover all of the minor tasks that comprise it.\n",
    "\n",
    "It should be noted that while there will be precise guidelines on how you should handle certain tasks in the project, there will also be places where an exact specification is not provided. **There will be times in the project where you will need to make and justify your own decisions on how to treat the data.** These are places where there may not be only one way to handle the data. In real-life tasks, there may be many valid ways to approach an analysis task. One of the most important things you can do is clearly document your approach so that other scientists can understand the decisions you've made.\n",
    "\n",
    "At the end of most sections, there will be a Markdown cell labeled **Discussion**. In these cells, you will report your findings for the completed section, as well as document the decisions that you made in your approach to each subtask. **Your project will be evaluated not just on the code used to complete the tasks outlined, but also your communication about your observations and conclusions at each stage.**"
   ]
  },
  {
   "cell_type": "code",
   "execution_count": 1,
   "metadata": {},
   "outputs": [],
   "source": [
    "# import libraries here; add more as necessary\n",
    "import numpy as np\n",
    "import pandas as pd\n",
    "import matplotlib.pyplot as plt\n",
    "import seaborn as sns\n",
    "\n",
    "# magic word for producing visualizations in notebook\n",
    "%matplotlib inline"
   ]
  },
  {
   "cell_type": "markdown",
   "metadata": {},
   "source": [
    "### Step 0: Load the Data\n",
    "\n",
    "There are four files associated with this project (not including this one):\n",
    "\n",
    "- `Udacity_AZDIAS_Subset.csv`: Demographics data for the general population of Germany; 891211 persons (rows) x 85 features (columns).\n",
    "- `Udacity_CUSTOMERS_Subset.csv`: Demographics data for customers of a mail-order company; 191652 persons (rows) x 85 features (columns).\n",
    "- `Data_Dictionary.md`: Detailed information file about the features in the provided datasets.\n",
    "- `AZDIAS_Feature_Summary.csv`: Summary of feature attributes for demographics data; 85 features (rows) x 4 columns\n",
    "\n",
    "Each row of the demographics files represents a single person, but also includes information outside of individuals, including information about their household, building, and neighborhood. You will use this information to cluster the general population into groups with similar demographic properties. Then, you will see how the people in the customers dataset fit into those created clusters. The hope here is that certain clusters are over-represented in the customers data, as compared to the general population; those over-represented clusters will be assumed to be part of the core userbase. This information can then be used for further applications, such as targeting for a marketing campaign.\n",
    "\n",
    "To start off with, load in the demographics data for the general population into a pandas DataFrame, and do the same for the feature attributes summary. Note for all of the `.csv` data files in this project: they're semicolon (`;`) delimited, so you'll need an additional argument in your [`read_csv()`](https://pandas.pydata.org/pandas-docs/stable/generated/pandas.read_csv.html) call to read in the data properly. Also, considering the size of the main dataset, it may take some time for it to load completely.\n",
    "\n",
    "Once the dataset is loaded, it's recommended that you take a little bit of time just browsing the general structure of the dataset and feature summary file. You'll be getting deep into the innards of the cleaning in the first major step of the project, so gaining some general familiarity can help you get your bearings."
   ]
  },
  {
   "cell_type": "code",
   "execution_count": 8,
   "metadata": {},
   "outputs": [],
   "source": [
    "# Load in the general demographics data.\n",
    "azdias = pd.read_csv('Udacity_AZDIAS_Subset.csv', delimiter=';')\n",
    "\n",
    "# Load in the feature summary file.\n",
    "feat_info = pd.read_csv('AZDIAS_Feature_Summary.csv', delimiter=';')"
   ]
  },
  {
   "cell_type": "code",
   "execution_count": 9,
   "metadata": {},
   "outputs": [
    {
     "data": {
      "text/plain": [
       "(891221, 85)"
      ]
     },
     "execution_count": 9,
     "metadata": {},
     "output_type": "execute_result"
    }
   ],
   "source": [
    "# Check the structure of the data after it's loaded (e.g. print the number of\n",
    "# rows and columns, print the first few rows).\n",
    "\n",
    "azdias.shape"
   ]
  },
  {
   "cell_type": "code",
   "execution_count": 7,
   "metadata": {
    "scrolled": true
   },
   "outputs": [
    {
     "data": {
      "text/html": [
       "<div>\n",
       "<style>\n",
       "    .dataframe thead tr:only-child th {\n",
       "        text-align: right;\n",
       "    }\n",
       "\n",
       "    .dataframe thead th {\n",
       "        text-align: left;\n",
       "    }\n",
       "\n",
       "    .dataframe tbody tr th {\n",
       "        vertical-align: top;\n",
       "    }\n",
       "</style>\n",
       "<table border=\"1\" class=\"dataframe\">\n",
       "  <thead>\n",
       "    <tr style=\"text-align: right;\">\n",
       "      <th></th>\n",
       "      <th>AGER_TYP</th>\n",
       "      <th>ALTERSKATEGORIE_GROB</th>\n",
       "      <th>ANREDE_KZ</th>\n",
       "      <th>CJT_GESAMTTYP</th>\n",
       "      <th>FINANZ_MINIMALIST</th>\n",
       "      <th>FINANZ_SPARER</th>\n",
       "      <th>FINANZ_VORSORGER</th>\n",
       "      <th>FINANZ_ANLEGER</th>\n",
       "      <th>FINANZ_UNAUFFAELLIGER</th>\n",
       "      <th>FINANZ_HAUSBAUER</th>\n",
       "      <th>...</th>\n",
       "      <th>PLZ8_ANTG1</th>\n",
       "      <th>PLZ8_ANTG2</th>\n",
       "      <th>PLZ8_ANTG3</th>\n",
       "      <th>PLZ8_ANTG4</th>\n",
       "      <th>PLZ8_BAUMAX</th>\n",
       "      <th>PLZ8_HHZ</th>\n",
       "      <th>PLZ8_GBZ</th>\n",
       "      <th>ARBEIT</th>\n",
       "      <th>ORTSGR_KLS9</th>\n",
       "      <th>RELAT_AB</th>\n",
       "    </tr>\n",
       "  </thead>\n",
       "  <tbody>\n",
       "    <tr>\n",
       "      <th>0</th>\n",
       "      <td>-1</td>\n",
       "      <td>2</td>\n",
       "      <td>1</td>\n",
       "      <td>2.0</td>\n",
       "      <td>3</td>\n",
       "      <td>4</td>\n",
       "      <td>3</td>\n",
       "      <td>5</td>\n",
       "      <td>5</td>\n",
       "      <td>3</td>\n",
       "      <td>...</td>\n",
       "      <td>NaN</td>\n",
       "      <td>NaN</td>\n",
       "      <td>NaN</td>\n",
       "      <td>NaN</td>\n",
       "      <td>NaN</td>\n",
       "      <td>NaN</td>\n",
       "      <td>NaN</td>\n",
       "      <td>NaN</td>\n",
       "      <td>NaN</td>\n",
       "      <td>NaN</td>\n",
       "    </tr>\n",
       "    <tr>\n",
       "      <th>1</th>\n",
       "      <td>-1</td>\n",
       "      <td>1</td>\n",
       "      <td>2</td>\n",
       "      <td>5.0</td>\n",
       "      <td>1</td>\n",
       "      <td>5</td>\n",
       "      <td>2</td>\n",
       "      <td>5</td>\n",
       "      <td>4</td>\n",
       "      <td>5</td>\n",
       "      <td>...</td>\n",
       "      <td>2.0</td>\n",
       "      <td>3.0</td>\n",
       "      <td>2.0</td>\n",
       "      <td>1.0</td>\n",
       "      <td>1.0</td>\n",
       "      <td>5.0</td>\n",
       "      <td>4.0</td>\n",
       "      <td>3.0</td>\n",
       "      <td>5.0</td>\n",
       "      <td>4.0</td>\n",
       "    </tr>\n",
       "    <tr>\n",
       "      <th>2</th>\n",
       "      <td>-1</td>\n",
       "      <td>3</td>\n",
       "      <td>2</td>\n",
       "      <td>3.0</td>\n",
       "      <td>1</td>\n",
       "      <td>4</td>\n",
       "      <td>1</td>\n",
       "      <td>2</td>\n",
       "      <td>3</td>\n",
       "      <td>5</td>\n",
       "      <td>...</td>\n",
       "      <td>3.0</td>\n",
       "      <td>3.0</td>\n",
       "      <td>1.0</td>\n",
       "      <td>0.0</td>\n",
       "      <td>1.0</td>\n",
       "      <td>4.0</td>\n",
       "      <td>4.0</td>\n",
       "      <td>3.0</td>\n",
       "      <td>5.0</td>\n",
       "      <td>2.0</td>\n",
       "    </tr>\n",
       "    <tr>\n",
       "      <th>3</th>\n",
       "      <td>2</td>\n",
       "      <td>4</td>\n",
       "      <td>2</td>\n",
       "      <td>2.0</td>\n",
       "      <td>4</td>\n",
       "      <td>2</td>\n",
       "      <td>5</td>\n",
       "      <td>2</td>\n",
       "      <td>1</td>\n",
       "      <td>2</td>\n",
       "      <td>...</td>\n",
       "      <td>2.0</td>\n",
       "      <td>2.0</td>\n",
       "      <td>2.0</td>\n",
       "      <td>0.0</td>\n",
       "      <td>1.0</td>\n",
       "      <td>3.0</td>\n",
       "      <td>4.0</td>\n",
       "      <td>2.0</td>\n",
       "      <td>3.0</td>\n",
       "      <td>3.0</td>\n",
       "    </tr>\n",
       "    <tr>\n",
       "      <th>4</th>\n",
       "      <td>-1</td>\n",
       "      <td>3</td>\n",
       "      <td>1</td>\n",
       "      <td>5.0</td>\n",
       "      <td>4</td>\n",
       "      <td>3</td>\n",
       "      <td>4</td>\n",
       "      <td>1</td>\n",
       "      <td>3</td>\n",
       "      <td>2</td>\n",
       "      <td>...</td>\n",
       "      <td>2.0</td>\n",
       "      <td>4.0</td>\n",
       "      <td>2.0</td>\n",
       "      <td>1.0</td>\n",
       "      <td>2.0</td>\n",
       "      <td>3.0</td>\n",
       "      <td>3.0</td>\n",
       "      <td>4.0</td>\n",
       "      <td>6.0</td>\n",
       "      <td>5.0</td>\n",
       "    </tr>\n",
       "  </tbody>\n",
       "</table>\n",
       "<p>5 rows × 85 columns</p>\n",
       "</div>"
      ],
      "text/plain": [
       "   AGER_TYP  ALTERSKATEGORIE_GROB  ANREDE_KZ  CJT_GESAMTTYP  \\\n",
       "0        -1                     2          1            2.0   \n",
       "1        -1                     1          2            5.0   \n",
       "2        -1                     3          2            3.0   \n",
       "3         2                     4          2            2.0   \n",
       "4        -1                     3          1            5.0   \n",
       "\n",
       "   FINANZ_MINIMALIST  FINANZ_SPARER  FINANZ_VORSORGER  FINANZ_ANLEGER  \\\n",
       "0                  3              4                 3               5   \n",
       "1                  1              5                 2               5   \n",
       "2                  1              4                 1               2   \n",
       "3                  4              2                 5               2   \n",
       "4                  4              3                 4               1   \n",
       "\n",
       "   FINANZ_UNAUFFAELLIGER  FINANZ_HAUSBAUER    ...     PLZ8_ANTG1  PLZ8_ANTG2  \\\n",
       "0                      5                 3    ...            NaN         NaN   \n",
       "1                      4                 5    ...            2.0         3.0   \n",
       "2                      3                 5    ...            3.0         3.0   \n",
       "3                      1                 2    ...            2.0         2.0   \n",
       "4                      3                 2    ...            2.0         4.0   \n",
       "\n",
       "   PLZ8_ANTG3  PLZ8_ANTG4  PLZ8_BAUMAX  PLZ8_HHZ  PLZ8_GBZ  ARBEIT  \\\n",
       "0         NaN         NaN          NaN       NaN       NaN     NaN   \n",
       "1         2.0         1.0          1.0       5.0       4.0     3.0   \n",
       "2         1.0         0.0          1.0       4.0       4.0     3.0   \n",
       "3         2.0         0.0          1.0       3.0       4.0     2.0   \n",
       "4         2.0         1.0          2.0       3.0       3.0     4.0   \n",
       "\n",
       "   ORTSGR_KLS9  RELAT_AB  \n",
       "0          NaN       NaN  \n",
       "1          5.0       4.0  \n",
       "2          5.0       2.0  \n",
       "3          3.0       3.0  \n",
       "4          6.0       5.0  \n",
       "\n",
       "[5 rows x 85 columns]"
      ]
     },
     "execution_count": 7,
     "metadata": {},
     "output_type": "execute_result"
    }
   ],
   "source": [
    "azdias.head()"
   ]
  },
  {
   "cell_type": "code",
   "execution_count": 9,
   "metadata": {
    "scrolled": true
   },
   "outputs": [
    {
     "data": {
      "text/html": [
       "<div>\n",
       "<style>\n",
       "    .dataframe thead tr:only-child th {\n",
       "        text-align: right;\n",
       "    }\n",
       "\n",
       "    .dataframe thead th {\n",
       "        text-align: left;\n",
       "    }\n",
       "\n",
       "    .dataframe tbody tr th {\n",
       "        vertical-align: top;\n",
       "    }\n",
       "</style>\n",
       "<table border=\"1\" class=\"dataframe\">\n",
       "  <thead>\n",
       "    <tr style=\"text-align: right;\">\n",
       "      <th></th>\n",
       "      <th>AGER_TYP</th>\n",
       "      <th>ALTERSKATEGORIE_GROB</th>\n",
       "      <th>ANREDE_KZ</th>\n",
       "      <th>CJT_GESAMTTYP</th>\n",
       "      <th>FINANZ_MINIMALIST</th>\n",
       "      <th>FINANZ_SPARER</th>\n",
       "      <th>FINANZ_VORSORGER</th>\n",
       "      <th>FINANZ_ANLEGER</th>\n",
       "      <th>FINANZ_UNAUFFAELLIGER</th>\n",
       "      <th>FINANZ_HAUSBAUER</th>\n",
       "      <th>...</th>\n",
       "      <th>PLZ8_ANTG1</th>\n",
       "      <th>PLZ8_ANTG2</th>\n",
       "      <th>PLZ8_ANTG3</th>\n",
       "      <th>PLZ8_ANTG4</th>\n",
       "      <th>PLZ8_BAUMAX</th>\n",
       "      <th>PLZ8_HHZ</th>\n",
       "      <th>PLZ8_GBZ</th>\n",
       "      <th>ARBEIT</th>\n",
       "      <th>ORTSGR_KLS9</th>\n",
       "      <th>RELAT_AB</th>\n",
       "    </tr>\n",
       "  </thead>\n",
       "  <tbody>\n",
       "    <tr>\n",
       "      <th>count</th>\n",
       "      <td>891221.000000</td>\n",
       "      <td>891221.000000</td>\n",
       "      <td>891221.000000</td>\n",
       "      <td>886367.000000</td>\n",
       "      <td>891221.000000</td>\n",
       "      <td>891221.000000</td>\n",
       "      <td>891221.000000</td>\n",
       "      <td>891221.000000</td>\n",
       "      <td>891221.000000</td>\n",
       "      <td>891221.000000</td>\n",
       "      <td>...</td>\n",
       "      <td>774706.000000</td>\n",
       "      <td>774706.000000</td>\n",
       "      <td>774706.000000</td>\n",
       "      <td>774706.000000</td>\n",
       "      <td>774706.000000</td>\n",
       "      <td>774706.000000</td>\n",
       "      <td>774706.000000</td>\n",
       "      <td>794005.000000</td>\n",
       "      <td>794005.000000</td>\n",
       "      <td>794005.00000</td>\n",
       "    </tr>\n",
       "    <tr>\n",
       "      <th>mean</th>\n",
       "      <td>-0.358435</td>\n",
       "      <td>2.777398</td>\n",
       "      <td>1.522098</td>\n",
       "      <td>3.632838</td>\n",
       "      <td>3.074528</td>\n",
       "      <td>2.821039</td>\n",
       "      <td>3.401106</td>\n",
       "      <td>3.033328</td>\n",
       "      <td>2.874167</td>\n",
       "      <td>3.075121</td>\n",
       "      <td>...</td>\n",
       "      <td>2.253330</td>\n",
       "      <td>2.801858</td>\n",
       "      <td>1.595426</td>\n",
       "      <td>0.699166</td>\n",
       "      <td>1.943913</td>\n",
       "      <td>3.612821</td>\n",
       "      <td>3.381087</td>\n",
       "      <td>3.167854</td>\n",
       "      <td>5.293002</td>\n",
       "      <td>3.07222</td>\n",
       "    </tr>\n",
       "    <tr>\n",
       "      <th>std</th>\n",
       "      <td>1.198724</td>\n",
       "      <td>1.068775</td>\n",
       "      <td>0.499512</td>\n",
       "      <td>1.595021</td>\n",
       "      <td>1.321055</td>\n",
       "      <td>1.464749</td>\n",
       "      <td>1.322134</td>\n",
       "      <td>1.529603</td>\n",
       "      <td>1.486731</td>\n",
       "      <td>1.353248</td>\n",
       "      <td>...</td>\n",
       "      <td>0.972008</td>\n",
       "      <td>0.920309</td>\n",
       "      <td>0.986736</td>\n",
       "      <td>0.727137</td>\n",
       "      <td>1.459654</td>\n",
       "      <td>0.973967</td>\n",
       "      <td>1.111598</td>\n",
       "      <td>1.002376</td>\n",
       "      <td>2.303739</td>\n",
       "      <td>1.36298</td>\n",
       "    </tr>\n",
       "    <tr>\n",
       "      <th>min</th>\n",
       "      <td>-1.000000</td>\n",
       "      <td>1.000000</td>\n",
       "      <td>1.000000</td>\n",
       "      <td>1.000000</td>\n",
       "      <td>1.000000</td>\n",
       "      <td>1.000000</td>\n",
       "      <td>1.000000</td>\n",
       "      <td>1.000000</td>\n",
       "      <td>1.000000</td>\n",
       "      <td>1.000000</td>\n",
       "      <td>...</td>\n",
       "      <td>0.000000</td>\n",
       "      <td>0.000000</td>\n",
       "      <td>0.000000</td>\n",
       "      <td>0.000000</td>\n",
       "      <td>1.000000</td>\n",
       "      <td>1.000000</td>\n",
       "      <td>1.000000</td>\n",
       "      <td>1.000000</td>\n",
       "      <td>0.000000</td>\n",
       "      <td>1.00000</td>\n",
       "    </tr>\n",
       "    <tr>\n",
       "      <th>25%</th>\n",
       "      <td>-1.000000</td>\n",
       "      <td>2.000000</td>\n",
       "      <td>1.000000</td>\n",
       "      <td>2.000000</td>\n",
       "      <td>2.000000</td>\n",
       "      <td>1.000000</td>\n",
       "      <td>3.000000</td>\n",
       "      <td>2.000000</td>\n",
       "      <td>2.000000</td>\n",
       "      <td>2.000000</td>\n",
       "      <td>...</td>\n",
       "      <td>1.000000</td>\n",
       "      <td>2.000000</td>\n",
       "      <td>1.000000</td>\n",
       "      <td>0.000000</td>\n",
       "      <td>1.000000</td>\n",
       "      <td>3.000000</td>\n",
       "      <td>3.000000</td>\n",
       "      <td>3.000000</td>\n",
       "      <td>4.000000</td>\n",
       "      <td>2.00000</td>\n",
       "    </tr>\n",
       "    <tr>\n",
       "      <th>50%</th>\n",
       "      <td>-1.000000</td>\n",
       "      <td>3.000000</td>\n",
       "      <td>2.000000</td>\n",
       "      <td>4.000000</td>\n",
       "      <td>3.000000</td>\n",
       "      <td>3.000000</td>\n",
       "      <td>3.000000</td>\n",
       "      <td>3.000000</td>\n",
       "      <td>3.000000</td>\n",
       "      <td>3.000000</td>\n",
       "      <td>...</td>\n",
       "      <td>2.000000</td>\n",
       "      <td>3.000000</td>\n",
       "      <td>2.000000</td>\n",
       "      <td>1.000000</td>\n",
       "      <td>1.000000</td>\n",
       "      <td>4.000000</td>\n",
       "      <td>3.000000</td>\n",
       "      <td>3.000000</td>\n",
       "      <td>5.000000</td>\n",
       "      <td>3.00000</td>\n",
       "    </tr>\n",
       "    <tr>\n",
       "      <th>75%</th>\n",
       "      <td>-1.000000</td>\n",
       "      <td>4.000000</td>\n",
       "      <td>2.000000</td>\n",
       "      <td>5.000000</td>\n",
       "      <td>4.000000</td>\n",
       "      <td>4.000000</td>\n",
       "      <td>5.000000</td>\n",
       "      <td>5.000000</td>\n",
       "      <td>4.000000</td>\n",
       "      <td>4.000000</td>\n",
       "      <td>...</td>\n",
       "      <td>3.000000</td>\n",
       "      <td>3.000000</td>\n",
       "      <td>2.000000</td>\n",
       "      <td>1.000000</td>\n",
       "      <td>3.000000</td>\n",
       "      <td>4.000000</td>\n",
       "      <td>4.000000</td>\n",
       "      <td>4.000000</td>\n",
       "      <td>7.000000</td>\n",
       "      <td>4.00000</td>\n",
       "    </tr>\n",
       "    <tr>\n",
       "      <th>max</th>\n",
       "      <td>3.000000</td>\n",
       "      <td>9.000000</td>\n",
       "      <td>2.000000</td>\n",
       "      <td>6.000000</td>\n",
       "      <td>5.000000</td>\n",
       "      <td>5.000000</td>\n",
       "      <td>5.000000</td>\n",
       "      <td>5.000000</td>\n",
       "      <td>5.000000</td>\n",
       "      <td>5.000000</td>\n",
       "      <td>...</td>\n",
       "      <td>4.000000</td>\n",
       "      <td>4.000000</td>\n",
       "      <td>3.000000</td>\n",
       "      <td>2.000000</td>\n",
       "      <td>5.000000</td>\n",
       "      <td>5.000000</td>\n",
       "      <td>5.000000</td>\n",
       "      <td>9.000000</td>\n",
       "      <td>9.000000</td>\n",
       "      <td>9.00000</td>\n",
       "    </tr>\n",
       "  </tbody>\n",
       "</table>\n",
       "<p>8 rows × 81 columns</p>\n",
       "</div>"
      ],
      "text/plain": [
       "            AGER_TYP  ALTERSKATEGORIE_GROB      ANREDE_KZ  CJT_GESAMTTYP  \\\n",
       "count  891221.000000         891221.000000  891221.000000  886367.000000   \n",
       "mean       -0.358435              2.777398       1.522098       3.632838   \n",
       "std         1.198724              1.068775       0.499512       1.595021   \n",
       "min        -1.000000              1.000000       1.000000       1.000000   \n",
       "25%        -1.000000              2.000000       1.000000       2.000000   \n",
       "50%        -1.000000              3.000000       2.000000       4.000000   \n",
       "75%        -1.000000              4.000000       2.000000       5.000000   \n",
       "max         3.000000              9.000000       2.000000       6.000000   \n",
       "\n",
       "       FINANZ_MINIMALIST  FINANZ_SPARER  FINANZ_VORSORGER  FINANZ_ANLEGER  \\\n",
       "count      891221.000000  891221.000000     891221.000000   891221.000000   \n",
       "mean            3.074528       2.821039          3.401106        3.033328   \n",
       "std             1.321055       1.464749          1.322134        1.529603   \n",
       "min             1.000000       1.000000          1.000000        1.000000   \n",
       "25%             2.000000       1.000000          3.000000        2.000000   \n",
       "50%             3.000000       3.000000          3.000000        3.000000   \n",
       "75%             4.000000       4.000000          5.000000        5.000000   \n",
       "max             5.000000       5.000000          5.000000        5.000000   \n",
       "\n",
       "       FINANZ_UNAUFFAELLIGER  FINANZ_HAUSBAUER      ...          PLZ8_ANTG1  \\\n",
       "count          891221.000000     891221.000000      ...       774706.000000   \n",
       "mean                2.874167          3.075121      ...            2.253330   \n",
       "std                 1.486731          1.353248      ...            0.972008   \n",
       "min                 1.000000          1.000000      ...            0.000000   \n",
       "25%                 2.000000          2.000000      ...            1.000000   \n",
       "50%                 3.000000          3.000000      ...            2.000000   \n",
       "75%                 4.000000          4.000000      ...            3.000000   \n",
       "max                 5.000000          5.000000      ...            4.000000   \n",
       "\n",
       "          PLZ8_ANTG2     PLZ8_ANTG3     PLZ8_ANTG4    PLZ8_BAUMAX  \\\n",
       "count  774706.000000  774706.000000  774706.000000  774706.000000   \n",
       "mean        2.801858       1.595426       0.699166       1.943913   \n",
       "std         0.920309       0.986736       0.727137       1.459654   \n",
       "min         0.000000       0.000000       0.000000       1.000000   \n",
       "25%         2.000000       1.000000       0.000000       1.000000   \n",
       "50%         3.000000       2.000000       1.000000       1.000000   \n",
       "75%         3.000000       2.000000       1.000000       3.000000   \n",
       "max         4.000000       3.000000       2.000000       5.000000   \n",
       "\n",
       "            PLZ8_HHZ       PLZ8_GBZ         ARBEIT    ORTSGR_KLS9  \\\n",
       "count  774706.000000  774706.000000  794005.000000  794005.000000   \n",
       "mean        3.612821       3.381087       3.167854       5.293002   \n",
       "std         0.973967       1.111598       1.002376       2.303739   \n",
       "min         1.000000       1.000000       1.000000       0.000000   \n",
       "25%         3.000000       3.000000       3.000000       4.000000   \n",
       "50%         4.000000       3.000000       3.000000       5.000000   \n",
       "75%         4.000000       4.000000       4.000000       7.000000   \n",
       "max         5.000000       5.000000       9.000000       9.000000   \n",
       "\n",
       "           RELAT_AB  \n",
       "count  794005.00000  \n",
       "mean        3.07222  \n",
       "std         1.36298  \n",
       "min         1.00000  \n",
       "25%         2.00000  \n",
       "50%         3.00000  \n",
       "75%         4.00000  \n",
       "max         9.00000  \n",
       "\n",
       "[8 rows x 81 columns]"
      ]
     },
     "execution_count": 9,
     "metadata": {},
     "output_type": "execute_result"
    }
   ],
   "source": [
    "azdias.describe()"
   ]
  },
  {
   "cell_type": "code",
   "execution_count": 10,
   "metadata": {
    "scrolled": true
   },
   "outputs": [
    {
     "data": {
      "text/plain": [
       "AGER_TYP                    5\n",
       "ALTERSKATEGORIE_GROB        5\n",
       "ANREDE_KZ                   2\n",
       "CJT_GESAMTTYP               6\n",
       "FINANZ_MINIMALIST           5\n",
       "FINANZ_SPARER               5\n",
       "FINANZ_VORSORGER            5\n",
       "FINANZ_ANLEGER              5\n",
       "FINANZ_UNAUFFAELLIGER       5\n",
       "FINANZ_HAUSBAUER            5\n",
       "FINANZTYP                   6\n",
       "GEBURTSJAHR               117\n",
       "GFK_URLAUBERTYP            12\n",
       "GREEN_AVANTGARDE            2\n",
       "HEALTH_TYP                  4\n",
       "LP_LEBENSPHASE_FEIN        41\n",
       "LP_LEBENSPHASE_GROB        13\n",
       "LP_FAMILIE_FEIN            12\n",
       "LP_FAMILIE_GROB             6\n",
       "LP_STATUS_FEIN             10\n",
       "LP_STATUS_GROB              5\n",
       "NATIONALITAET_KZ            4\n",
       "PRAEGENDE_JUGENDJAHRE      16\n",
       "RETOURTYP_BK_S              5\n",
       "SEMIO_SOZ                   7\n",
       "SEMIO_FAM                   7\n",
       "SEMIO_REL                   7\n",
       "SEMIO_MAT                   7\n",
       "SEMIO_VERT                  7\n",
       "SEMIO_LUST                  7\n",
       "                         ... \n",
       "OST_WEST_KZ                 2\n",
       "WOHNLAGE                    8\n",
       "CAMEO_DEUG_2015            10\n",
       "CAMEO_DEU_2015             45\n",
       "CAMEO_INTL_2015            22\n",
       "KBA05_ANTG1                 5\n",
       "KBA05_ANTG2                 5\n",
       "KBA05_ANTG3                 4\n",
       "KBA05_ANTG4                 3\n",
       "KBA05_BAUMAX                6\n",
       "KBA05_GBZ                   5\n",
       "BALLRAUM                    7\n",
       "EWDICHTE                    6\n",
       "INNENSTADT                  8\n",
       "GEBAEUDETYP_RASTER          5\n",
       "KKK                         5\n",
       "MOBI_REGIO                  6\n",
       "ONLINE_AFFINITAET           6\n",
       "REGIOTYP                    8\n",
       "KBA13_ANZAHL_PKW         1261\n",
       "PLZ8_ANTG1                  5\n",
       "PLZ8_ANTG2                  5\n",
       "PLZ8_ANTG3                  4\n",
       "PLZ8_ANTG4                  3\n",
       "PLZ8_BAUMAX                 5\n",
       "PLZ8_HHZ                    5\n",
       "PLZ8_GBZ                    5\n",
       "ARBEIT                      6\n",
       "ORTSGR_KLS9                10\n",
       "RELAT_AB                    6\n",
       "Length: 85, dtype: int64"
      ]
     },
     "execution_count": 10,
     "metadata": {},
     "output_type": "execute_result"
    }
   ],
   "source": [
    "azdias.nunique()"
   ]
  },
  {
   "cell_type": "markdown",
   "metadata": {},
   "source": [
    "> **Tip**: Add additional cells to keep everything in reasonably-sized chunks! Keyboard shortcut `esc --> a` (press escape to enter command mode, then press the 'A' key) adds a new cell before the active cell, and `esc --> b` adds a new cell after the active cell. If you need to convert an active cell to a markdown cell, use `esc --> m` and to convert to a code cell, use `esc --> y`. \n",
    "\n",
    "## Step 1: Preprocessing\n",
    "\n",
    "### Step 1.1: Assess Missing Data\n",
    "\n",
    "The feature summary file contains a summary of properties for each demographics data column. You will use this file to help you make cleaning decisions during this stage of the project. First of all, you should assess the demographics data in terms of missing data. Pay attention to the following points as you perform your analysis, and take notes on what you observe. Make sure that you fill in the **Discussion** cell with your findings and decisions at the end of each step that has one!\n",
    "\n",
    "#### Step 1.1.1: Convert Missing Value Codes to NaNs\n",
    "The fourth column of the feature attributes summary (loaded in above as `feat_info`) documents the codes from the data dictionary that indicate missing or unknown data. While the file encodes this as a list (e.g. `[-1,0]`), this will get read in as a string object. You'll need to do a little bit of parsing to make use of it to identify and clean the data. Convert data that matches a 'missing' or 'unknown' value code into a numpy NaN value. You might want to see how much data takes on a 'missing' or 'unknown' code, and how much data is naturally missing, as a point of interest.\n",
    "\n",
    "**As one more reminder, you are encouraged to add additional cells to break up your analysis into manageable chunks.**"
   ]
  },
  {
   "cell_type": "code",
   "execution_count": 8,
   "metadata": {},
   "outputs": [],
   "source": [
    "# function that converts the missing vals to int if possible, otherwise it stays str\n",
    "def parse_missing_string(s):\n",
    "    try:\n",
    "        return [int(x) for x in s.strip('[]').split(',')]\n",
    "    except:\n",
    "        return s.strip('[]').split(',')"
   ]
  },
  {
   "cell_type": "code",
   "execution_count": 9,
   "metadata": {
    "scrolled": true
   },
   "outputs": [],
   "source": [
    "# Use the function to create a column:fields map that we can use to replace\n",
    "missing_map = feat_info.set_index('attribute').missing_or_unknown.apply(parse_missing_string).to_dict()"
   ]
  },
  {
   "cell_type": "markdown",
   "metadata": {},
   "source": [
    "It's good to take a quick look at the missing map to make sure it's ok. Note that the empty strings are good here - they allow the replace function to work even though it won't map anything."
   ]
  },
  {
   "cell_type": "code",
   "execution_count": 10,
   "metadata": {
    "scrolled": true
   },
   "outputs": [
    {
     "data": {
      "text/plain": [
       "{'AGER_TYP': [-1, 0],\n",
       " 'ALTERSKATEGORIE_GROB': [-1, 0, 9],\n",
       " 'ALTER_HH': [0],\n",
       " 'ANREDE_KZ': [-1, 0],\n",
       " 'ANZ_HAUSHALTE_AKTIV': [0],\n",
       " 'ANZ_HH_TITEL': [''],\n",
       " 'ANZ_PERSONEN': [''],\n",
       " 'ANZ_TITEL': [''],\n",
       " 'ARBEIT': [-1, 9],\n",
       " 'BALLRAUM': [-1],\n",
       " 'CAMEO_DEUG_2015': ['-1', 'X'],\n",
       " 'CAMEO_DEU_2015': ['XX'],\n",
       " 'CAMEO_INTL_2015': ['-1', 'XX'],\n",
       " 'CJT_GESAMTTYP': [0],\n",
       " 'EWDICHTE': [-1],\n",
       " 'FINANZTYP': [-1],\n",
       " 'FINANZ_ANLEGER': [-1],\n",
       " 'FINANZ_HAUSBAUER': [-1],\n",
       " 'FINANZ_MINIMALIST': [-1],\n",
       " 'FINANZ_SPARER': [-1],\n",
       " 'FINANZ_UNAUFFAELLIGER': [-1],\n",
       " 'FINANZ_VORSORGER': [-1],\n",
       " 'GEBAEUDETYP': [-1, 0],\n",
       " 'GEBAEUDETYP_RASTER': [''],\n",
       " 'GEBURTSJAHR': [0],\n",
       " 'GFK_URLAUBERTYP': [''],\n",
       " 'GREEN_AVANTGARDE': [''],\n",
       " 'HEALTH_TYP': [-1, 0],\n",
       " 'HH_EINKOMMEN_SCORE': [-1, 0],\n",
       " 'INNENSTADT': [-1],\n",
       " 'KBA05_ANTG1': [-1],\n",
       " 'KBA05_ANTG2': [-1],\n",
       " 'KBA05_ANTG3': [-1],\n",
       " 'KBA05_ANTG4': [-1],\n",
       " 'KBA05_BAUMAX': [-1, 0],\n",
       " 'KBA05_GBZ': [-1, 0],\n",
       " 'KBA13_ANZAHL_PKW': [''],\n",
       " 'KKK': [-1, 0],\n",
       " 'KK_KUNDENTYP': [-1],\n",
       " 'KONSUMNAEHE': [''],\n",
       " 'LP_FAMILIE_FEIN': [0],\n",
       " 'LP_FAMILIE_GROB': [0],\n",
       " 'LP_LEBENSPHASE_FEIN': [0],\n",
       " 'LP_LEBENSPHASE_GROB': [0],\n",
       " 'LP_STATUS_FEIN': [0],\n",
       " 'LP_STATUS_GROB': [0],\n",
       " 'MIN_GEBAEUDEJAHR': [0],\n",
       " 'MOBI_REGIO': [''],\n",
       " 'NATIONALITAET_KZ': [-1, 0],\n",
       " 'ONLINE_AFFINITAET': [''],\n",
       " 'ORTSGR_KLS9': [-1, 0],\n",
       " 'OST_WEST_KZ': [-1],\n",
       " 'PLZ8_ANTG1': [-1],\n",
       " 'PLZ8_ANTG2': [-1],\n",
       " 'PLZ8_ANTG3': [-1],\n",
       " 'PLZ8_ANTG4': [-1],\n",
       " 'PLZ8_BAUMAX': [-1, 0],\n",
       " 'PLZ8_GBZ': [-1],\n",
       " 'PLZ8_HHZ': [-1],\n",
       " 'PRAEGENDE_JUGENDJAHRE': [-1, 0],\n",
       " 'REGIOTYP': [-1, 0],\n",
       " 'RELAT_AB': [-1, 9],\n",
       " 'RETOURTYP_BK_S': [0],\n",
       " 'SEMIO_DOM': [-1, 9],\n",
       " 'SEMIO_ERL': [-1, 9],\n",
       " 'SEMIO_FAM': [-1, 9],\n",
       " 'SEMIO_KAEM': [-1, 9],\n",
       " 'SEMIO_KRIT': [-1, 9],\n",
       " 'SEMIO_KULT': [-1, 9],\n",
       " 'SEMIO_LUST': [-1, 9],\n",
       " 'SEMIO_MAT': [-1, 9],\n",
       " 'SEMIO_PFLICHT': [-1, 9],\n",
       " 'SEMIO_RAT': [-1, 9],\n",
       " 'SEMIO_REL': [-1, 9],\n",
       " 'SEMIO_SOZ': [-1, 9],\n",
       " 'SEMIO_TRADV': [-1, 9],\n",
       " 'SEMIO_VERT': [-1, 9],\n",
       " 'SHOPPER_TYP': [-1],\n",
       " 'SOHO_KZ': [-1],\n",
       " 'TITEL_KZ': [-1, 0],\n",
       " 'VERS_TYP': [-1],\n",
       " 'WOHNDAUER_2008': [-1, 0],\n",
       " 'WOHNLAGE': [-1],\n",
       " 'W_KEIT_KIND_HH': [-1, 0],\n",
       " 'ZABEOTYP': [-1, 9]}"
      ]
     },
     "execution_count": 10,
     "metadata": {},
     "output_type": "execute_result"
    }
   ],
   "source": [
    "missing_map"
   ]
  },
  {
   "cell_type": "code",
   "execution_count": 11,
   "metadata": {
    "scrolled": true
   },
   "outputs": [],
   "source": [
    "# create a new df with missing values replaced\n",
    "demog = azdias.replace(missing_map, np.nan)"
   ]
  },
  {
   "cell_type": "markdown",
   "metadata": {},
   "source": [
    "We can spot check a few columns to make sure it worked, it looks pretty good!"
   ]
  },
  {
   "cell_type": "code",
   "execution_count": 10,
   "metadata": {},
   "outputs": [],
   "source": [
    "i=0"
   ]
  },
  {
   "cell_type": "code",
   "execution_count": 11,
   "metadata": {},
   "outputs": [
    {
     "data": {
      "text/plain": [
       "-1    677503\n",
       " 2     98472\n",
       " 1     79802\n",
       " 3     27104\n",
       " 0      8340\n",
       "Name: AGER_TYP, dtype: int64"
      ]
     },
     "execution_count": 11,
     "metadata": {},
     "output_type": "execute_result"
    }
   ],
   "source": [
    "azdias.iloc[:, i].value_counts()"
   ]
  },
  {
   "cell_type": "code",
   "execution_count": 12,
   "metadata": {
    "scrolled": true
   },
   "outputs": [
    {
     "data": {
      "text/plain": [
       "2.0    98472\n",
       "1.0    79802\n",
       "3.0    27104\n",
       "Name: AGER_TYP, dtype: int64"
      ]
     },
     "execution_count": 12,
     "metadata": {},
     "output_type": "execute_result"
    }
   ],
   "source": [
    "demog.iloc[:, i].value_counts()"
   ]
  },
  {
   "cell_type": "markdown",
   "metadata": {},
   "source": [
    "#### Step 1.1.2: Assess Missing Data in Each Column\n",
    "\n",
    "How much missing data is present in each column? There are a few columns that are outliers in terms of the proportion of values that are missing. You will want to use matplotlib's [`hist()`](https://matplotlib.org/api/_as_gen/matplotlib.pyplot.hist.html) function to visualize the distribution of missing value counts to find these columns. Identify and document these columns. While some of these columns might have justifications for keeping or re-encoding the data, for this project you should just remove them from the dataframe. (Feel free to make remarks about these outlier columns in the discussion, however!)\n",
    "\n",
    "For the remaining features, are there any patterns in which columns have, or share, missing data?"
   ]
  },
  {
   "cell_type": "code",
   "execution_count": 12,
   "metadata": {},
   "outputs": [],
   "source": [
    "# function that returns the percent of missing data in each column (axis=0) or row (axis=1)\n",
    "def missing_percent(df, axis=0):\n",
    "    return df.isnull().sum(axis=axis)/df.shape[axis]"
   ]
  },
  {
   "cell_type": "markdown",
   "metadata": {},
   "source": [
    "We can use this function to check the missing amount relative to the overall count, spot check by looking at the first few columns:"
   ]
  },
  {
   "cell_type": "code",
   "execution_count": 13,
   "metadata": {},
   "outputs": [
    {
     "data": {
      "text/plain": [
       "AGER_TYP                 0.769554\n",
       "ALTERSKATEGORIE_GROB     0.003233\n",
       "ANREDE_KZ                0.000000\n",
       "CJT_GESAMTTYP            0.005446\n",
       "FINANZ_MINIMALIST        0.000000\n",
       "FINANZ_SPARER            0.000000\n",
       "FINANZ_VORSORGER         0.000000\n",
       "FINANZ_ANLEGER           0.000000\n",
       "FINANZ_UNAUFFAELLIGER    0.000000\n",
       "FINANZ_HAUSBAUER         0.000000\n",
       "FINANZTYP                0.000000\n",
       "GEBURTSJAHR              0.440203\n",
       "GFK_URLAUBERTYP          0.005446\n",
       "GREEN_AVANTGARDE         0.000000\n",
       "HEALTH_TYP               0.124768\n",
       "LP_LEBENSPHASE_FEIN      0.109549\n",
       "LP_LEBENSPHASE_GROB      0.106115\n",
       "LP_FAMILIE_FEIN          0.087287\n",
       "LP_FAMILIE_GROB          0.087287\n",
       "LP_STATUS_FEIN           0.005446\n",
       "dtype: float64"
      ]
     },
     "execution_count": 13,
     "metadata": {},
     "output_type": "execute_result"
    }
   ],
   "source": [
    "# Perform an assessment of how much missing data there is in each column of the\n",
    "# dataset.\n",
    "missing_percent(demog).head(20)"
   ]
  },
  {
   "cell_type": "markdown",
   "metadata": {},
   "source": [
    "Let's plot a histogram for both the percent and total number of missing rows:"
   ]
  },
  {
   "cell_type": "code",
   "execution_count": 35,
   "metadata": {},
   "outputs": [
    {
     "data": {
      "text/plain": [
       "<matplotlib.axes._subplots.AxesSubplot at 0x7ff29c869a20>"
      ]
     },
     "execution_count": 35,
     "metadata": {},
     "output_type": "execute_result"
    },
    {
     "data": {
      "image/png": "[encoded data removed]",
      "text/plain": [
       "<matplotlib.figure.Figure at 0x7ff29c91fc50>"
      ]
     },
     "metadata": {},
     "output_type": "display_data"
    }
   ],
   "source": [
    "# Investigate patterns in the amount of missing data in each column.\n",
    "\n",
    "demog.isnull().sum().hist(bins=50, figsize=(12, 6))"
   ]
  },
  {
   "cell_type": "code",
   "execution_count": 18,
   "metadata": {
    "scrolled": false
   },
   "outputs": [
    {
     "data": {
      "text/plain": [
       "<matplotlib.axes._subplots.AxesSubplot at 0x7ffa25e50668>"
      ]
     },
     "execution_count": 18,
     "metadata": {},
     "output_type": "execute_result"
    },
    {
     "data": {
      "image/png": "[encoded data removed]",
      "text/plain": [
       "<matplotlib.figure.Figure at 0x7ffa25e3cf98>"
      ]
     },
     "metadata": {},
     "output_type": "display_data"
    }
   ],
   "source": [
    "# Investigate patterns in the amount of missing data in each column.\n",
    "\n",
    "missing_percent(demog).hist(bins=50, figsize=(12, 6))"
   ]
  },
  {
   "cell_type": "markdown",
   "metadata": {},
   "source": [
    "It's clear that there are a few columns with way more data missing, let's check what the specific columns are that have >30% missing values:"
   ]
  },
  {
   "cell_type": "code",
   "execution_count": 21,
   "metadata": {},
   "outputs": [
    {
     "data": {
      "text/plain": [
       "AGER_TYP        0.769554\n",
       "GEBURTSJAHR     0.440203\n",
       "TITEL_KZ        0.997576\n",
       "ALTER_HH        0.348137\n",
       "KK_KUNDENTYP    0.655967\n",
       "KBA05_BAUMAX    0.534687\n",
       "dtype: float64"
      ]
     },
     "execution_count": 21,
     "metadata": {},
     "output_type": "execute_result"
    }
   ],
   "source": [
    "outlier_columns = missing_percent(demog).where(missing_percent(demog) > 0.3).dropna()\n",
    "outlier_columns"
   ]
  },
  {
   "cell_type": "markdown",
   "metadata": {},
   "source": [
    "We can just exclude those columns from the dataset."
   ]
  },
  {
   "cell_type": "code",
   "execution_count": 27,
   "metadata": {},
   "outputs": [],
   "source": [
    "# Remove the outlier columns from the dataset. (You'll perform other data\n",
    "# engineering tasks such as re-encoding and imputation later.)\n",
    "\n",
    "demog.drop(outlier_columns.index, axis=1, inplace=True)"
   ]
  },
  {
   "cell_type": "markdown",
   "metadata": {},
   "source": [
    "Taking a look at the distribution now, it's quite different:"
   ]
  },
  {
   "cell_type": "code",
   "execution_count": 28,
   "metadata": {},
   "outputs": [
    {
     "data": {
      "text/plain": [
       "<matplotlib.axes._subplots.AxesSubplot at 0x7ffa1997f0b8>"
      ]
     },
     "execution_count": 28,
     "metadata": {},
     "output_type": "execute_result"
    },
    {
     "data": {
      "image/png": "[encoded data removed]",
      "text/plain": [
       "<matplotlib.figure.Figure at 0x7ffa1997f9e8>"
      ]
     },
     "metadata": {},
     "output_type": "display_data"
    }
   ],
   "source": [
    "missing_percent(demog).hist(bins=50, figsize=(12, 6))"
   ]
  },
  {
   "cell_type": "markdown",
   "metadata": {},
   "source": [
    "#### Discussion 1.1.2: Assess Missing Data in Each Column\n",
    "\n",
    "(Double click this cell and replace this text with your own text, reporting your observations regarding the amount of missing data in each column. Are there any patterns in missing values? Which columns were removed from the dataset?)\n",
    "\n",
    "There are a few obvious matterns in the data missing from the demographic information - there are several columns that have a huge number of missing values (>30% of the records). I elected to just drop them from the dataset since they don't have much value and would make future work harder. The dropped columns were:\n",
    "\n",
    "1. AGER_TYP: Best-ager typology\n",
    "\n",
    "2. GEBURTSJAHR: Year of birth\n",
    "\n",
    "3. TITEL_KZ: Academic title flag\n",
    "\n",
    "4. ALTER_HH: Birthdate of head of household\n",
    "\n",
    "5. KK_KUNDENTYP: Consumer pattern over past 12 months\n",
    "\n",
    "6. KBA05_BAUMAX: Most common building type within the microcell\n",
    "\n",
    "\n",
    "In the remaining columns, there are around 30 which have almost no missing values at all. In addition there are pockets of several columns each having different amounts of missing data ranging from ~7% to 17.5%. I've chosen to keep those in the dataset since they have information for very many samples"
   ]
  },
  {
   "cell_type": "markdown",
   "metadata": {},
   "source": [
    "#### Step 1.1.3: Assess Missing Data in Each Row\n",
    "\n",
    "Now, you'll perform a similar assessment for the rows of the dataset. How much data is missing in each row? As with the columns, you should see some groups of points that have a very different numbers of missing values. Divide the data into two subsets: one for data points that are above some threshold for missing values, and a second subset for points below that threshold.\n",
    "\n",
    "In order to know what to do with the outlier rows, we should see if the distribution of data values on columns that are not missing data (or are missing very little data) are similar or different between the two groups. Select at least five of these columns and compare the distribution of values.\n",
    "- You can use seaborn's [`countplot()`](https://seaborn.pydata.org/generated/seaborn.countplot.html) function to create a bar chart of code frequencies and matplotlib's [`subplot()`](https://matplotlib.org/api/_as_gen/matplotlib.pyplot.subplot.html) function to put bar charts for the two subplots side by side.\n",
    "- To reduce repeated code, you might want to write a function that can perform this comparison, taking as one of its arguments a column to be compared.\n",
    "\n",
    "Depending on what you observe in your comparison, this will have implications on how you approach your conclusions later in the analysis. If the distributions of non-missing features look similar between the data with many missing values and the data with few or no missing values, then we could argue that simply dropping those points from the analysis won't present a major issue. On the other hand, if the data with many missing values looks very different from the data with few or no missing values, then we should make a note on those data as special. We'll revisit these data later on. **Either way, you should continue your analysis for now using just the subset of the data with few or no missing values.**"
   ]
  },
  {
   "cell_type": "code",
   "execution_count": 39,
   "metadata": {
    "scrolled": true
   },
   "outputs": [
    {
     "data": {
      "text/plain": [
       "0     0.544304\n",
       "1     0.000000\n",
       "2     0.000000\n",
       "3     0.088608\n",
       "4     0.000000\n",
       "5     0.000000\n",
       "6     0.000000\n",
       "7     0.000000\n",
       "8     0.000000\n",
       "9     0.000000\n",
       "10    0.000000\n",
       "11    0.594937\n",
       "12    0.075949\n",
       "13    0.101266\n",
       "14    0.594937\n",
       "15    0.101266\n",
       "16    0.075949\n",
       "17    0.594937\n",
       "18    0.037975\n",
       "19    0.000000\n",
       "dtype: float64"
      ]
     },
     "execution_count": 39,
     "metadata": {},
     "output_type": "execute_result"
    }
   ],
   "source": [
    "# we can use the function defined earlier to check missing values on a row basis\n",
    "missing_percent(demog, axis=1).head(20)"
   ]
  },
  {
   "cell_type": "markdown",
   "metadata": {},
   "source": [
    "We can do a similar approach to what we did for columns and check out the distribution of rows with missing data."
   ]
  },
  {
   "cell_type": "code",
   "execution_count": 40,
   "metadata": {},
   "outputs": [
    {
     "data": {
      "text/plain": [
       "<matplotlib.axes._subplots.AxesSubplot at 0x7ffa25d19438>"
      ]
     },
     "execution_count": 40,
     "metadata": {},
     "output_type": "execute_result"
    },
    {
     "data": {
      "image/png": "[encoded data removed]",
      "text/plain": [
       "<matplotlib.figure.Figure at 0x7ffa25d0c6a0>"
      ]
     },
     "metadata": {},
     "output_type": "display_data"
    }
   ],
   "source": [
    "missing_percent(demog, axis=1).hist(bins=50, figsize=(12, 6))"
   ]
  },
  {
   "cell_type": "markdown",
   "metadata": {},
   "source": [
    "Looks like there is a nice point to divide the dataset at 30% of data missing!"
   ]
  },
  {
   "cell_type": "code",
   "execution_count": 35,
   "metadata": {},
   "outputs": [],
   "source": [
    "# Write code to divide the data into two subsets based on the number of missing\n",
    "# values in each row.\n",
    "\n",
    "demog_low_missing = demog[missing_percent(demog, axis=1) <= 0.3]\n",
    "demog_high_missing = demog[missing_percent(demog, axis=1) > 0.3]"
   ]
  },
  {
   "cell_type": "markdown",
   "metadata": {},
   "source": [
    "Now we should check out the distribution of the low missing value group:"
   ]
  },
  {
   "cell_type": "code",
   "execution_count": 43,
   "metadata": {},
   "outputs": [
    {
     "data": {
      "text/plain": [
       "<matplotlib.axes._subplots.AxesSubplot at 0x7f2851b1b978>"
      ]
     },
     "execution_count": 43,
     "metadata": {},
     "output_type": "execute_result"
    },
    {
     "data": {
      "image/png": "[encoded data removed]",
      "text/plain": [
       "<matplotlib.figure.Figure at 0x7f2851b0c898>"
      ]
     },
     "metadata": {},
     "output_type": "display_data"
    }
   ],
   "source": [
    "missing_percent(demog_low_missing, axis=1).hist(bins=25, figsize=(12, 6))"
   ]
  },
  {
   "cell_type": "markdown",
   "metadata": {},
   "source": [
    "Looks pretty great! Just a long-ish tail on a normal distribution centered around 4% of data missing. Now we have to compare columns that exist in both high and low missing value datasets. To start we can find the columns that aren't missing any data in both sets and compare those."
   ]
  },
  {
   "cell_type": "code",
   "execution_count": 36,
   "metadata": {},
   "outputs": [
    {
     "data": {
      "text/plain": [
       "ANREDE_KZ                0.0\n",
       "FINANZ_MINIMALIST        0.0\n",
       "FINANZ_SPARER            0.0\n",
       "FINANZ_VORSORGER         0.0\n",
       "FINANZ_ANLEGER           0.0\n",
       "FINANZ_UNAUFFAELLIGER    0.0\n",
       "FINANZ_HAUSBAUER         0.0\n",
       "FINANZTYP                0.0\n",
       "GREEN_AVANTGARDE         0.0\n",
       "SEMIO_SOZ                0.0\n",
       "SEMIO_FAM                0.0\n",
       "SEMIO_REL                0.0\n",
       "SEMIO_MAT                0.0\n",
       "SEMIO_VERT               0.0\n",
       "SEMIO_LUST               0.0\n",
       "SEMIO_ERL                0.0\n",
       "SEMIO_KULT               0.0\n",
       "SEMIO_RAT                0.0\n",
       "SEMIO_KRIT               0.0\n",
       "SEMIO_DOM                0.0\n",
       "SEMIO_KAEM               0.0\n",
       "SEMIO_PFLICHT            0.0\n",
       "SEMIO_TRADV              0.0\n",
       "ZABEOTYP                 0.0\n",
       "dtype: float64"
      ]
     },
     "execution_count": 36,
     "metadata": {},
     "output_type": "execute_result"
    }
   ],
   "source": [
    "# Compare the distribution of values for at least five columns where there are\n",
    "# no or few missing values, between the two subsets.\n",
    "missing_percent(demog_low_missing)[missing_percent(demog_high_missing)==0]"
   ]
  },
  {
   "cell_type": "code",
   "execution_count": 85,
   "metadata": {},
   "outputs": [],
   "source": [
    "def compare_column(df_low, df_high, col):\n",
    "    fig, (ax1, ax2) = plt.subplots(nrows=1, ncols=2, figsize=(12,5))\n",
    "    \n",
    "    sns.countplot(x=col, data=df_low, ax=ax1)\n",
    "    ax1.set_title('low missing')\n",
    "    sns.countplot(x=col, data=df_high, ax=ax2)\n",
    "    ax2.set_title('high missing')"
   ]
  },
  {
   "cell_type": "markdown",
   "metadata": {},
   "source": [
    "We can go through the list and see if they are different."
   ]
  },
  {
   "cell_type": "code",
   "execution_count": 86,
   "metadata": {},
   "outputs": [
    {
     "data": {
      "image/png": "[encoded data removed]",
      "text/plain": [
       "<matplotlib.figure.Figure at 0x7ffa1bb64b70>"
      ]
     },
     "metadata": {},
     "output_type": "display_data"
    }
   ],
   "source": [
    "compare_column(demog_low_missing, demog_high_missing, 'ANREDE_KZ')"
   ]
  },
  {
   "cell_type": "code",
   "execution_count": 87,
   "metadata": {},
   "outputs": [
    {
     "data": {
      "image/png": "[encoded data removed]",
      "text/plain": [
       "<matplotlib.figure.Figure at 0x7ffa1986ac50>"
      ]
     },
     "metadata": {},
     "output_type": "display_data"
    }
   ],
   "source": [
    "compare_column(demog_low_missing, demog_high_missing, 'FINANZ_MINIMALIST')"
   ]
  },
  {
   "cell_type": "code",
   "execution_count": 88,
   "metadata": {},
   "outputs": [
    {
     "data": {
      "image/png": "[encoded data removed]",
      "text/plain": [
       "<matplotlib.figure.Figure at 0x7ffa197bca20>"
      ]
     },
     "metadata": {},
     "output_type": "display_data"
    }
   ],
   "source": [
    "compare_column(demog_low_missing, demog_high_missing, 'FINANZ_SPARER')"
   ]
  },
  {
   "cell_type": "code",
   "execution_count": 89,
   "metadata": {},
   "outputs": [
    {
     "data": {
      "image/png": "[encoded data removed]",
      "text/plain": [
       "<matplotlib.figure.Figure at 0x7ffa1974cda0>"
      ]
     },
     "metadata": {},
     "output_type": "display_data"
    }
   ],
   "source": [
    "compare_column(demog_low_missing, demog_high_missing, 'SEMIO_MAT')"
   ]
  },
  {
   "cell_type": "code",
   "execution_count": 90,
   "metadata": {
    "scrolled": true
   },
   "outputs": [
    {
     "data": {
      "image/png": "[encoded data removed]",
      "text/plain": [
       "<matplotlib.figure.Figure at 0x7ffa195e9e48>"
      ]
     },
     "metadata": {},
     "output_type": "display_data"
    }
   ],
   "source": [
    "compare_column(demog_low_missing, demog_high_missing, 'ZABEOTYP')"
   ]
  },
  {
   "cell_type": "code",
   "execution_count": 169,
   "metadata": {},
   "outputs": [],
   "source": [
    "# copy the low missing for future use, serves as a checkpoint in case stuff is messed up\n",
    "demog_new = demog_low_missing.copy(deep=True)"
   ]
  },
  {
   "cell_type": "markdown",
   "metadata": {},
   "source": [
    "#### Discussion 1.1.3: Assess Missing Data in Each Row\n",
    "\n",
    "(Double-click this cell and replace this text with your own text, reporting your observations regarding missing data in rows. Are the data with lots of missing values are qualitatively different from data with few or no missing values?)\n",
    "\n",
    "We removed quite a few rows that had >30% of their values missing. It works out to just over 10% of the dataset that were in this regime. The rows in the high missing value group are going to be excluded from the pca and clustering analysis, but will have to be kept in mind later.\n",
    "\n",
    "The high missing value rows do seem to have a **very** different distribution than the low missing values. This indicates that they likely are a qualitatively different group of people. We are going to exclude them from the clustering analysis but should compare the fraction of people in this high missing value group later on."
   ]
  },
  {
   "cell_type": "markdown",
   "metadata": {},
   "source": [
    "### Step 1.2: Select and Re-Encode Features\n",
    "\n",
    "Checking for missing data isn't the only way in which you can prepare a dataset for analysis. Since the unsupervised learning techniques to be used will only work on data that is encoded numerically, you need to make a few encoding changes or additional assumptions to be able to make progress. In addition, while almost all of the values in the dataset are encoded using numbers, not all of them represent numeric values. Check the third column of the feature summary (`feat_info`) for a summary of types of measurement.\n",
    "- For numeric and interval data, these features can be kept without changes.\n",
    "- Most of the variables in the dataset are ordinal in nature. While ordinal values may technically be non-linear in spacing, make the simplifying assumption that the ordinal variables can be treated as being interval in nature (that is, kept without any changes).\n",
    "- Special handling may be necessary for the remaining two variable types: categorical, and 'mixed'.\n",
    "\n",
    "In the first two parts of this sub-step, you will perform an investigation of the categorical and mixed-type features and make a decision on each of them, whether you will keep, drop, or re-encode each. Then, in the last part, you will create a new data frame with only the selected and engineered columns.\n",
    "\n",
    "Data wrangling is often the trickiest part of the data analysis process, and there's a lot of it to be done here. But stick with it: once you're done with this step, you'll be ready to get to the machine learning parts of the project!"
   ]
  },
  {
   "cell_type": "code",
   "execution_count": 93,
   "metadata": {
    "scrolled": false
   },
   "outputs": [
    {
     "data": {
      "text/plain": [
       "ordinal        49\n",
       "categorical    21\n",
       "mixed           7\n",
       "numeric         7\n",
       "interval        1\n",
       "Name: type, dtype: int64"
      ]
     },
     "execution_count": 93,
     "metadata": {},
     "output_type": "execute_result"
    }
   ],
   "source": [
    "# How many features are there of each data type?\n",
    "\n",
    "feat_info.type.value_counts()"
   ]
  },
  {
   "cell_type": "markdown",
   "metadata": {},
   "source": [
    "#### Step 1.2.1: Re-Encode Categorical Features\n",
    "\n",
    "For categorical data, you would ordinarily need to encode the levels as dummy variables. Depending on the number of categories, perform one of the following:\n",
    "- For binary (two-level) categoricals that take numeric values, you can keep them without needing to do anything.\n",
    "- There is one binary variable that takes on non-numeric values. For this one, you need to re-encode the values as numbers or create a dummy variable.\n",
    "- For multi-level categoricals (three or more values), you can choose to encode the values using multiple dummy variables (e.g. via [OneHotEncoder](http://scikit-learn.org/stable/modules/generated/sklearn.preprocessing.OneHotEncoder.html)), or (to keep things straightforward) just drop them from the analysis. As always, document your choices in the Discussion section."
   ]
  },
  {
   "cell_type": "code",
   "execution_count": 126,
   "metadata": {},
   "outputs": [],
   "source": [
    "# Assess categorical variables: which are binary, which are multi-level, and\n",
    "# which one needs to be re-encoded?\n",
    "\n",
    "categorical_cols = feat_info[feat_info.type=='categorical'].attribute \\\n",
    "    .where(~categorical_cols.isin(outlier_columns.index)).dropna() # filter out the dropped columns"
   ]
  },
  {
   "cell_type": "markdown",
   "metadata": {},
   "source": [
    "We can check the number of different values in each category pretty easily. We find that there are 5 with 2 categories and several with a really large number of categories."
   ]
  },
  {
   "cell_type": "code",
   "execution_count": 150,
   "metadata": {},
   "outputs": [
    {
     "data": {
      "text/plain": [
       "ANREDE_KZ            2\n",
       "OST_WEST_KZ          2\n",
       "VERS_TYP             2\n",
       "SOHO_KZ              2\n",
       "GREEN_AVANTGARDE     2\n",
       "NATIONALITAET_KZ     3\n",
       "SHOPPER_TYP          4\n",
       "LP_STATUS_GROB       5\n",
       "LP_FAMILIE_GROB      5\n",
       "FINANZTYP            6\n",
       "ZABEOTYP             6\n",
       "CJT_GESAMTTYP        6\n",
       "GEBAEUDETYP          7\n",
       "CAMEO_DEUG_2015      9\n",
       "LP_STATUS_FEIN      10\n",
       "LP_FAMILIE_FEIN     11\n",
       "GFK_URLAUBERTYP     12\n",
       "CAMEO_DEU_2015      44\n",
       "dtype: int64"
      ]
     },
     "execution_count": 150,
     "metadata": {},
     "output_type": "execute_result"
    }
   ],
   "source": [
    "demog_new[categorical_cols].nunique().sort_values()"
   ]
  },
  {
   "cell_type": "markdown",
   "metadata": {},
   "source": [
    "Turns out that OST_WEST_KZ has 'W' and 'O' instead of 0 and 1. We will re-encode it as 0 and 1."
   ]
  },
  {
   "cell_type": "code",
   "execution_count": 151,
   "metadata": {},
   "outputs": [
    {
     "data": {
      "text/plain": [
       "W    629332\n",
       "O    168505\n",
       "Name: OST_WEST_KZ, dtype: int64"
      ]
     },
     "execution_count": 151,
     "metadata": {},
     "output_type": "execute_result"
    }
   ],
   "source": [
    "demog_new.OST_WEST_KZ.value_counts()"
   ]
  },
  {
   "cell_type": "code",
   "execution_count": 170,
   "metadata": {},
   "outputs": [],
   "source": [
    "# Re-encode categorical variable(s) to be kept in the analysis.\n",
    "\n",
    "demog_new.loc[:,'OST_WEST_KZ']=demog_new.OST_WEST_KZ.map({'W':0, 'O':1})"
   ]
  },
  {
   "cell_type": "code",
   "execution_count": 153,
   "metadata": {
    "scrolled": false
   },
   "outputs": [
    {
     "data": {
      "text/plain": [
       "0    629332\n",
       "1    168505\n",
       "Name: OST_WEST_KZ, dtype: int64"
      ]
     },
     "execution_count": 153,
     "metadata": {},
     "output_type": "execute_result"
    }
   ],
   "source": [
    "demog_new.OST_WEST_KZ.value_counts()"
   ]
  },
  {
   "cell_type": "markdown",
   "metadata": {},
   "source": [
    "I decided to drop features with more than 5 categories - this keeps some of the features without keeping the ones that would make the rest of the analysis really hard."
   ]
  },
  {
   "cell_type": "code",
   "execution_count": 171,
   "metadata": {},
   "outputs": [],
   "source": [
    "counts = demog_new[categorical_cols].nunique()"
   ]
  },
  {
   "cell_type": "code",
   "execution_count": 172,
   "metadata": {},
   "outputs": [],
   "source": [
    "# extract columns with more than 5 values\n",
    "multi_cat_columns = counts[counts > 5].index.values"
   ]
  },
  {
   "cell_type": "code",
   "execution_count": 173,
   "metadata": {},
   "outputs": [],
   "source": [
    "demog_new.drop(multi_cat_columns, axis=1, inplace=True)"
   ]
  },
  {
   "cell_type": "markdown",
   "metadata": {},
   "source": [
    "We can one hot encode the remaining columns with <=5 categories."
   ]
  },
  {
   "cell_type": "code",
   "execution_count": 176,
   "metadata": {},
   "outputs": [],
   "source": [
    "remaining_cols = ['NATIONALITAET_KZ',     \n",
    "                  'SHOPPER_TYP',          \n",
    "                  'LP_STATUS_GROB',      \n",
    "                  'LP_FAMILIE_GROB']"
   ]
  },
  {
   "cell_type": "code",
   "execution_count": 182,
   "metadata": {},
   "outputs": [],
   "source": [
    "# pandas.get_dummies is a really easy way to one hot encode\n",
    "demog_new = pd.get_dummies(demog_new, columns=remaining_cols)"
   ]
  },
  {
   "cell_type": "markdown",
   "metadata": {},
   "source": [
    "Spot checking a few rows this all looks great!"
   ]
  },
  {
   "cell_type": "code",
   "execution_count": 183,
   "metadata": {},
   "outputs": [
    {
     "data": {
      "text/html": [
       "<div>\n",
       "<style>\n",
       "    .dataframe thead tr:only-child th {\n",
       "        text-align: right;\n",
       "    }\n",
       "\n",
       "    .dataframe thead th {\n",
       "        text-align: left;\n",
       "    }\n",
       "\n",
       "    .dataframe tbody tr th {\n",
       "        vertical-align: top;\n",
       "    }\n",
       "</style>\n",
       "<table border=\"1\" class=\"dataframe\">\n",
       "  <thead>\n",
       "    <tr style=\"text-align: right;\">\n",
       "      <th></th>\n",
       "      <th>ALTERSKATEGORIE_GROB</th>\n",
       "      <th>ANREDE_KZ</th>\n",
       "      <th>FINANZ_MINIMALIST</th>\n",
       "      <th>FINANZ_SPARER</th>\n",
       "      <th>FINANZ_VORSORGER</th>\n",
       "      <th>FINANZ_ANLEGER</th>\n",
       "      <th>FINANZ_UNAUFFAELLIGER</th>\n",
       "      <th>FINANZ_HAUSBAUER</th>\n",
       "      <th>GREEN_AVANTGARDE</th>\n",
       "      <th>HEALTH_TYP</th>\n",
       "      <th>...</th>\n",
       "      <th>LP_STATUS_GROB_1.0</th>\n",
       "      <th>LP_STATUS_GROB_2.0</th>\n",
       "      <th>LP_STATUS_GROB_3.0</th>\n",
       "      <th>LP_STATUS_GROB_4.0</th>\n",
       "      <th>LP_STATUS_GROB_5.0</th>\n",
       "      <th>LP_FAMILIE_GROB_1.0</th>\n",
       "      <th>LP_FAMILIE_GROB_2.0</th>\n",
       "      <th>LP_FAMILIE_GROB_3.0</th>\n",
       "      <th>LP_FAMILIE_GROB_4.0</th>\n",
       "      <th>LP_FAMILIE_GROB_5.0</th>\n",
       "    </tr>\n",
       "  </thead>\n",
       "  <tbody>\n",
       "    <tr>\n",
       "      <th>1</th>\n",
       "      <td>1.0</td>\n",
       "      <td>2</td>\n",
       "      <td>1</td>\n",
       "      <td>5</td>\n",
       "      <td>2</td>\n",
       "      <td>5</td>\n",
       "      <td>4</td>\n",
       "      <td>5</td>\n",
       "      <td>0</td>\n",
       "      <td>3.0</td>\n",
       "      <td>...</td>\n",
       "      <td>1</td>\n",
       "      <td>0</td>\n",
       "      <td>0</td>\n",
       "      <td>0</td>\n",
       "      <td>0</td>\n",
       "      <td>0</td>\n",
       "      <td>0</td>\n",
       "      <td>1</td>\n",
       "      <td>0</td>\n",
       "      <td>0</td>\n",
       "    </tr>\n",
       "    <tr>\n",
       "      <th>2</th>\n",
       "      <td>3.0</td>\n",
       "      <td>2</td>\n",
       "      <td>1</td>\n",
       "      <td>4</td>\n",
       "      <td>1</td>\n",
       "      <td>2</td>\n",
       "      <td>3</td>\n",
       "      <td>5</td>\n",
       "      <td>1</td>\n",
       "      <td>3.0</td>\n",
       "      <td>...</td>\n",
       "      <td>0</td>\n",
       "      <td>1</td>\n",
       "      <td>0</td>\n",
       "      <td>0</td>\n",
       "      <td>0</td>\n",
       "      <td>1</td>\n",
       "      <td>0</td>\n",
       "      <td>0</td>\n",
       "      <td>0</td>\n",
       "      <td>0</td>\n",
       "    </tr>\n",
       "    <tr>\n",
       "      <th>3</th>\n",
       "      <td>4.0</td>\n",
       "      <td>2</td>\n",
       "      <td>4</td>\n",
       "      <td>2</td>\n",
       "      <td>5</td>\n",
       "      <td>2</td>\n",
       "      <td>1</td>\n",
       "      <td>2</td>\n",
       "      <td>0</td>\n",
       "      <td>2.0</td>\n",
       "      <td>...</td>\n",
       "      <td>0</td>\n",
       "      <td>0</td>\n",
       "      <td>0</td>\n",
       "      <td>1</td>\n",
       "      <td>0</td>\n",
       "      <td>0</td>\n",
       "      <td>0</td>\n",
       "      <td>0</td>\n",
       "      <td>0</td>\n",
       "      <td>0</td>\n",
       "    </tr>\n",
       "    <tr>\n",
       "      <th>4</th>\n",
       "      <td>3.0</td>\n",
       "      <td>1</td>\n",
       "      <td>4</td>\n",
       "      <td>3</td>\n",
       "      <td>4</td>\n",
       "      <td>1</td>\n",
       "      <td>3</td>\n",
       "      <td>2</td>\n",
       "      <td>0</td>\n",
       "      <td>3.0</td>\n",
       "      <td>...</td>\n",
       "      <td>0</td>\n",
       "      <td>1</td>\n",
       "      <td>0</td>\n",
       "      <td>0</td>\n",
       "      <td>0</td>\n",
       "      <td>0</td>\n",
       "      <td>0</td>\n",
       "      <td>0</td>\n",
       "      <td>0</td>\n",
       "      <td>1</td>\n",
       "    </tr>\n",
       "    <tr>\n",
       "      <th>5</th>\n",
       "      <td>1.0</td>\n",
       "      <td>2</td>\n",
       "      <td>3</td>\n",
       "      <td>1</td>\n",
       "      <td>5</td>\n",
       "      <td>2</td>\n",
       "      <td>2</td>\n",
       "      <td>5</td>\n",
       "      <td>0</td>\n",
       "      <td>3.0</td>\n",
       "      <td>...</td>\n",
       "      <td>0</td>\n",
       "      <td>1</td>\n",
       "      <td>0</td>\n",
       "      <td>0</td>\n",
       "      <td>0</td>\n",
       "      <td>1</td>\n",
       "      <td>0</td>\n",
       "      <td>0</td>\n",
       "      <td>0</td>\n",
       "      <td>0</td>\n",
       "    </tr>\n",
       "    <tr>\n",
       "      <th>6</th>\n",
       "      <td>2.0</td>\n",
       "      <td>2</td>\n",
       "      <td>1</td>\n",
       "      <td>5</td>\n",
       "      <td>1</td>\n",
       "      <td>5</td>\n",
       "      <td>4</td>\n",
       "      <td>3</td>\n",
       "      <td>0</td>\n",
       "      <td>2.0</td>\n",
       "      <td>...</td>\n",
       "      <td>1</td>\n",
       "      <td>0</td>\n",
       "      <td>0</td>\n",
       "      <td>0</td>\n",
       "      <td>0</td>\n",
       "      <td>1</td>\n",
       "      <td>0</td>\n",
       "      <td>0</td>\n",
       "      <td>0</td>\n",
       "      <td>0</td>\n",
       "    </tr>\n",
       "    <tr>\n",
       "      <th>7</th>\n",
       "      <td>1.0</td>\n",
       "      <td>1</td>\n",
       "      <td>3</td>\n",
       "      <td>3</td>\n",
       "      <td>4</td>\n",
       "      <td>1</td>\n",
       "      <td>3</td>\n",
       "      <td>2</td>\n",
       "      <td>0</td>\n",
       "      <td>1.0</td>\n",
       "      <td>...</td>\n",
       "      <td>1</td>\n",
       "      <td>0</td>\n",
       "      <td>0</td>\n",
       "      <td>0</td>\n",
       "      <td>0</td>\n",
       "      <td>1</td>\n",
       "      <td>0</td>\n",
       "      <td>0</td>\n",
       "      <td>0</td>\n",
       "      <td>0</td>\n",
       "    </tr>\n",
       "    <tr>\n",
       "      <th>8</th>\n",
       "      <td>3.0</td>\n",
       "      <td>1</td>\n",
       "      <td>4</td>\n",
       "      <td>4</td>\n",
       "      <td>2</td>\n",
       "      <td>4</td>\n",
       "      <td>2</td>\n",
       "      <td>2</td>\n",
       "      <td>1</td>\n",
       "      <td>3.0</td>\n",
       "      <td>...</td>\n",
       "      <td>0</td>\n",
       "      <td>0</td>\n",
       "      <td>0</td>\n",
       "      <td>0</td>\n",
       "      <td>1</td>\n",
       "      <td>1</td>\n",
       "      <td>0</td>\n",
       "      <td>0</td>\n",
       "      <td>0</td>\n",
       "      <td>0</td>\n",
       "    </tr>\n",
       "    <tr>\n",
       "      <th>9</th>\n",
       "      <td>3.0</td>\n",
       "      <td>2</td>\n",
       "      <td>2</td>\n",
       "      <td>4</td>\n",
       "      <td>2</td>\n",
       "      <td>3</td>\n",
       "      <td>5</td>\n",
       "      <td>4</td>\n",
       "      <td>1</td>\n",
       "      <td>2.0</td>\n",
       "      <td>...</td>\n",
       "      <td>0</td>\n",
       "      <td>1</td>\n",
       "      <td>0</td>\n",
       "      <td>0</td>\n",
       "      <td>0</td>\n",
       "      <td>1</td>\n",
       "      <td>0</td>\n",
       "      <td>0</td>\n",
       "      <td>0</td>\n",
       "      <td>0</td>\n",
       "    </tr>\n",
       "    <tr>\n",
       "      <th>10</th>\n",
       "      <td>3.0</td>\n",
       "      <td>2</td>\n",
       "      <td>2</td>\n",
       "      <td>2</td>\n",
       "      <td>5</td>\n",
       "      <td>3</td>\n",
       "      <td>1</td>\n",
       "      <td>5</td>\n",
       "      <td>0</td>\n",
       "      <td>2.0</td>\n",
       "      <td>...</td>\n",
       "      <td>1</td>\n",
       "      <td>0</td>\n",
       "      <td>0</td>\n",
       "      <td>0</td>\n",
       "      <td>0</td>\n",
       "      <td>1</td>\n",
       "      <td>0</td>\n",
       "      <td>0</td>\n",
       "      <td>0</td>\n",
       "      <td>0</td>\n",
       "    </tr>\n",
       "  </tbody>\n",
       "</table>\n",
       "<p>10 rows × 83 columns</p>\n",
       "</div>"
      ],
      "text/plain": [
       "    ALTERSKATEGORIE_GROB  ANREDE_KZ  FINANZ_MINIMALIST  FINANZ_SPARER  \\\n",
       "1                    1.0          2                  1              5   \n",
       "2                    3.0          2                  1              4   \n",
       "3                    4.0          2                  4              2   \n",
       "4                    3.0          1                  4              3   \n",
       "5                    1.0          2                  3              1   \n",
       "6                    2.0          2                  1              5   \n",
       "7                    1.0          1                  3              3   \n",
       "8                    3.0          1                  4              4   \n",
       "9                    3.0          2                  2              4   \n",
       "10                   3.0          2                  2              2   \n",
       "\n",
       "    FINANZ_VORSORGER  FINANZ_ANLEGER  FINANZ_UNAUFFAELLIGER  FINANZ_HAUSBAUER  \\\n",
       "1                  2               5                      4                 5   \n",
       "2                  1               2                      3                 5   \n",
       "3                  5               2                      1                 2   \n",
       "4                  4               1                      3                 2   \n",
       "5                  5               2                      2                 5   \n",
       "6                  1               5                      4                 3   \n",
       "7                  4               1                      3                 2   \n",
       "8                  2               4                      2                 2   \n",
       "9                  2               3                      5                 4   \n",
       "10                 5               3                      1                 5   \n",
       "\n",
       "    GREEN_AVANTGARDE  HEALTH_TYP         ...           LP_STATUS_GROB_1.0  \\\n",
       "1                  0         3.0         ...                            1   \n",
       "2                  1         3.0         ...                            0   \n",
       "3                  0         2.0         ...                            0   \n",
       "4                  0         3.0         ...                            0   \n",
       "5                  0         3.0         ...                            0   \n",
       "6                  0         2.0         ...                            1   \n",
       "7                  0         1.0         ...                            1   \n",
       "8                  1         3.0         ...                            0   \n",
       "9                  1         2.0         ...                            0   \n",
       "10                 0         2.0         ...                            1   \n",
       "\n",
       "    LP_STATUS_GROB_2.0  LP_STATUS_GROB_3.0  LP_STATUS_GROB_4.0  \\\n",
       "1                    0                   0                   0   \n",
       "2                    1                   0                   0   \n",
       "3                    0                   0                   1   \n",
       "4                    1                   0                   0   \n",
       "5                    1                   0                   0   \n",
       "6                    0                   0                   0   \n",
       "7                    0                   0                   0   \n",
       "8                    0                   0                   0   \n",
       "9                    1                   0                   0   \n",
       "10                   0                   0                   0   \n",
       "\n",
       "    LP_STATUS_GROB_5.0  LP_FAMILIE_GROB_1.0  LP_FAMILIE_GROB_2.0  \\\n",
       "1                    0                    0                    0   \n",
       "2                    0                    1                    0   \n",
       "3                    0                    0                    0   \n",
       "4                    0                    0                    0   \n",
       "5                    0                    1                    0   \n",
       "6                    0                    1                    0   \n",
       "7                    0                    1                    0   \n",
       "8                    1                    1                    0   \n",
       "9                    0                    1                    0   \n",
       "10                   0                    1                    0   \n",
       "\n",
       "    LP_FAMILIE_GROB_3.0  LP_FAMILIE_GROB_4.0  LP_FAMILIE_GROB_5.0  \n",
       "1                     1                    0                    0  \n",
       "2                     0                    0                    0  \n",
       "3                     0                    0                    0  \n",
       "4                     0                    0                    1  \n",
       "5                     0                    0                    0  \n",
       "6                     0                    0                    0  \n",
       "7                     0                    0                    0  \n",
       "8                     0                    0                    0  \n",
       "9                     0                    0                    0  \n",
       "10                    0                    0                    0  \n",
       "\n",
       "[10 rows x 83 columns]"
      ]
     },
     "execution_count": 183,
     "metadata": {},
     "output_type": "execute_result"
    }
   ],
   "source": [
    "demog_new.head(10)"
   ]
  },
  {
   "cell_type": "markdown",
   "metadata": {},
   "source": [
    "#### Discussion 1.2.1: Re-Encode Categorical Features\n",
    "\n",
    "(Double-click this cell and replace this text with your own text, reporting your findings and decisions regarding categorical features. Which ones did you keep, which did you drop, and what engineering steps did you perform?)\n",
    "\n",
    "I made the decision to keep features with <=5 categories for ease of use. This also entailed re-encoding OST_WEST_KZ as numbers. I didn't want to include larger categorical features as it will make understanding the data very difficult later, but keeping a few with fewer features should still be ok."
   ]
  },
  {
   "cell_type": "markdown",
   "metadata": {},
   "source": [
    "#### Step 1.2.2: Engineer Mixed-Type Features\n",
    "\n",
    "There are a handful of features that are marked as \"mixed\" in the feature summary that require special treatment in order to be included in the analysis. There are two in particular that deserve attention; the handling of the rest are up to your own choices:\n",
    "- \"PRAEGENDE_JUGENDJAHRE\" combines information on three dimensions: generation by decade, movement (mainstream vs. avantgarde), and nation (east vs. west). While there aren't enough levels to disentangle east from west, you should create two new variables to capture the other two dimensions: an interval-type variable for decade, and a binary variable for movement.\n",
    "- \"CAMEO_INTL_2015\" combines information on two axes: wealth and life stage. Break up the two-digit codes by their 'tens'-place and 'ones'-place digits into two new ordinal variables (which, for the purposes of this project, is equivalent to just treating them as their raw numeric values).\n",
    "- If you decide to keep or engineer new features around the other mixed-type features, make sure you note your steps in the Discussion section.\n",
    "\n",
    "Be sure to check `Data_Dictionary.md` for the details needed to finish these tasks."
   ]
  },
  {
   "cell_type": "code",
   "execution_count": 198,
   "metadata": {},
   "outputs": [
    {
     "data": {
      "text/html": [
       "<div>\n",
       "<style>\n",
       "    .dataframe thead tr:only-child th {\n",
       "        text-align: right;\n",
       "    }\n",
       "\n",
       "    .dataframe thead th {\n",
       "        text-align: left;\n",
       "    }\n",
       "\n",
       "    .dataframe tbody tr th {\n",
       "        vertical-align: top;\n",
       "    }\n",
       "</style>\n",
       "<table border=\"1\" class=\"dataframe\">\n",
       "  <thead>\n",
       "    <tr style=\"text-align: right;\">\n",
       "      <th></th>\n",
       "      <th>attribute</th>\n",
       "      <th>information_level</th>\n",
       "      <th>type</th>\n",
       "      <th>missing_or_unknown</th>\n",
       "    </tr>\n",
       "  </thead>\n",
       "  <tbody>\n",
       "    <tr>\n",
       "      <th>15</th>\n",
       "      <td>LP_LEBENSPHASE_FEIN</td>\n",
       "      <td>person</td>\n",
       "      <td>mixed</td>\n",
       "      <td>[0]</td>\n",
       "    </tr>\n",
       "    <tr>\n",
       "      <th>16</th>\n",
       "      <td>LP_LEBENSPHASE_GROB</td>\n",
       "      <td>person</td>\n",
       "      <td>mixed</td>\n",
       "      <td>[0]</td>\n",
       "    </tr>\n",
       "    <tr>\n",
       "      <th>22</th>\n",
       "      <td>PRAEGENDE_JUGENDJAHRE</td>\n",
       "      <td>person</td>\n",
       "      <td>mixed</td>\n",
       "      <td>[-1,0]</td>\n",
       "    </tr>\n",
       "    <tr>\n",
       "      <th>56</th>\n",
       "      <td>WOHNLAGE</td>\n",
       "      <td>building</td>\n",
       "      <td>mixed</td>\n",
       "      <td>[-1]</td>\n",
       "    </tr>\n",
       "    <tr>\n",
       "      <th>59</th>\n",
       "      <td>CAMEO_INTL_2015</td>\n",
       "      <td>microcell_rr4</td>\n",
       "      <td>mixed</td>\n",
       "      <td>[-1,XX]</td>\n",
       "    </tr>\n",
       "    <tr>\n",
       "      <th>64</th>\n",
       "      <td>KBA05_BAUMAX</td>\n",
       "      <td>microcell_rr3</td>\n",
       "      <td>mixed</td>\n",
       "      <td>[-1,0]</td>\n",
       "    </tr>\n",
       "    <tr>\n",
       "      <th>79</th>\n",
       "      <td>PLZ8_BAUMAX</td>\n",
       "      <td>macrocell_plz8</td>\n",
       "      <td>mixed</td>\n",
       "      <td>[-1,0]</td>\n",
       "    </tr>\n",
       "  </tbody>\n",
       "</table>\n",
       "</div>"
      ],
      "text/plain": [
       "                attribute information_level   type missing_or_unknown\n",
       "15    LP_LEBENSPHASE_FEIN            person  mixed                [0]\n",
       "16    LP_LEBENSPHASE_GROB            person  mixed                [0]\n",
       "22  PRAEGENDE_JUGENDJAHRE            person  mixed             [-1,0]\n",
       "56               WOHNLAGE          building  mixed               [-1]\n",
       "59        CAMEO_INTL_2015     microcell_rr4  mixed            [-1,XX]\n",
       "64           KBA05_BAUMAX     microcell_rr3  mixed             [-1,0]\n",
       "79            PLZ8_BAUMAX    macrocell_plz8  mixed             [-1,0]"
      ]
     },
     "execution_count": 198,
     "metadata": {},
     "output_type": "execute_result"
    }
   ],
   "source": [
    "feat_info[feat_info.type=='mixed']"
   ]
  },
  {
   "cell_type": "markdown",
   "metadata": {},
   "source": [
    "From the data dictionary:\n",
    "\n",
    "PRAEGENDE_JUGENDJAHRE\n",
    "Dominating movement of person's youth (avantgarde vs. mainstream; east vs. west)\n",
    "- -1: unknown\n",
    "-  0: unknown\n",
    "-  1: 40s - war years (Mainstream, E+W)\n",
    "-  2: 40s - reconstruction years (Avantgarde, E+W)\n",
    "-  3: 50s - economic miracle (Mainstream, E+W)\n",
    "-  4: 50s - milk bar / Individualisation (Avantgarde, E+W)\n",
    "-  5: 60s - economic miracle (Mainstream, E+W)\n",
    "-  6: 60s - generation 68 / student protestors (Avantgarde, W)\n",
    "-  7: 60s - opponents to the building of the Wall (Avantgarde, E)\n",
    "-  8: 70s - family orientation (Mainstream, E+W)\n",
    "-  9: 70s - peace movement (Avantgarde, E+W)\n",
    "- 10: 80s - Generation Golf (Mainstream, W)\n",
    "- 11: 80s - ecological awareness (Avantgarde, W)\n",
    "- 12: 80s - FDJ / communist party youth organisation (Mainstream, E)\n",
    "- 13: 80s - Swords into ploughshares (Avantgarde, E)\n",
    "- 14: 90s - digital media kids (Mainstream, E+W)\n",
    "- 15: 90s - ecological awareness (Avantgarde, E+W)\n",
    "\n",
    "We can use this to make two python dictionaries to separate these features:"
   ]
  },
  {
   "cell_type": "code",
   "execution_count": 190,
   "metadata": {},
   "outputs": [],
   "source": [
    "# -1 and 0 should be already removed earlier\n",
    "\n",
    "# maps each decade starting at 40s=1 and ending at 90s=6\n",
    "decade_map = {\n",
    "    1:1,\n",
    "    2:1,\n",
    "    3:2,\n",
    "    4:2,\n",
    "    5:3,\n",
    "    6:3,\n",
    "    7:3,\n",
    "    8:4,\n",
    "    9:4,\n",
    "    10:5,\n",
    "    11:5,\n",
    "    12:5,\n",
    "    13:5,\n",
    "    14:6,\n",
    "    15:6\n",
    "}\n",
    "\n",
    "# maps values for each movement Mainstream=0, Avantgarde=1\n",
    "movement_map = {\n",
    "    1:0,\n",
    "    2:1,\n",
    "    3:0,\n",
    "    4:1,\n",
    "    5:0,\n",
    "    6:1,\n",
    "    7:1,\n",
    "    8:0,\n",
    "    9:1,\n",
    "    10:0,\n",
    "    11:1,\n",
    "    12:0,\n",
    "    13:1,\n",
    "    14:0,\n",
    "    15:1\n",
    "}"
   ]
  },
  {
   "cell_type": "markdown",
   "metadata": {},
   "source": [
    "Now we re-engineer these features:"
   ]
  },
  {
   "cell_type": "code",
   "execution_count": 195,
   "metadata": {},
   "outputs": [],
   "source": [
    "demog_new['PRAEGENDE_JUGENDJAHRE_DECADE'] = demog_new.PRAEGENDE_JUGENDJAHRE.map(decade_map)\n",
    "demog_new['PRAEGENDE_JUGENDJAHRE_MOVEMENT'] = demog_new.PRAEGENDE_JUGENDJAHRE.map(movement_map)"
   ]
  },
  {
   "cell_type": "markdown",
   "metadata": {},
   "source": [
    "Spot checking, it looks good!"
   ]
  },
  {
   "cell_type": "code",
   "execution_count": 201,
   "metadata": {
    "scrolled": false
   },
   "outputs": [
    {
     "data": {
      "text/html": [
       "<div>\n",
       "<style>\n",
       "    .dataframe thead tr:only-child th {\n",
       "        text-align: right;\n",
       "    }\n",
       "\n",
       "    .dataframe thead th {\n",
       "        text-align: left;\n",
       "    }\n",
       "\n",
       "    .dataframe tbody tr th {\n",
       "        vertical-align: top;\n",
       "    }\n",
       "</style>\n",
       "<table border=\"1\" class=\"dataframe\">\n",
       "  <thead>\n",
       "    <tr style=\"text-align: right;\">\n",
       "      <th></th>\n",
       "      <th>PRAEGENDE_JUGENDJAHRE_DECADE</th>\n",
       "      <th>PRAEGENDE_JUGENDJAHRE_MOVEMENT</th>\n",
       "    </tr>\n",
       "  </thead>\n",
       "  <tbody>\n",
       "    <tr>\n",
       "      <th>1</th>\n",
       "      <td>6.0</td>\n",
       "      <td>0.0</td>\n",
       "    </tr>\n",
       "    <tr>\n",
       "      <th>2</th>\n",
       "      <td>6.0</td>\n",
       "      <td>1.0</td>\n",
       "    </tr>\n",
       "    <tr>\n",
       "      <th>3</th>\n",
       "      <td>4.0</td>\n",
       "      <td>0.0</td>\n",
       "    </tr>\n",
       "    <tr>\n",
       "      <th>4</th>\n",
       "      <td>4.0</td>\n",
       "      <td>0.0</td>\n",
       "    </tr>\n",
       "    <tr>\n",
       "      <th>5</th>\n",
       "      <td>2.0</td>\n",
       "      <td>0.0</td>\n",
       "    </tr>\n",
       "    <tr>\n",
       "      <th>6</th>\n",
       "      <td>5.0</td>\n",
       "      <td>0.0</td>\n",
       "    </tr>\n",
       "    <tr>\n",
       "      <th>7</th>\n",
       "      <td>4.0</td>\n",
       "      <td>0.0</td>\n",
       "    </tr>\n",
       "    <tr>\n",
       "      <th>8</th>\n",
       "      <td>5.0</td>\n",
       "      <td>1.0</td>\n",
       "    </tr>\n",
       "    <tr>\n",
       "      <th>9</th>\n",
       "      <td>6.0</td>\n",
       "      <td>1.0</td>\n",
       "    </tr>\n",
       "    <tr>\n",
       "      <th>10</th>\n",
       "      <td>2.0</td>\n",
       "      <td>0.0</td>\n",
       "    </tr>\n",
       "  </tbody>\n",
       "</table>\n",
       "</div>"
      ],
      "text/plain": [
       "    PRAEGENDE_JUGENDJAHRE_DECADE  PRAEGENDE_JUGENDJAHRE_MOVEMENT\n",
       "1                            6.0                             0.0\n",
       "2                            6.0                             1.0\n",
       "3                            4.0                             0.0\n",
       "4                            4.0                             0.0\n",
       "5                            2.0                             0.0\n",
       "6                            5.0                             0.0\n",
       "7                            4.0                             0.0\n",
       "8                            5.0                             1.0\n",
       "9                            6.0                             1.0\n",
       "10                           2.0                             0.0"
      ]
     },
     "execution_count": 201,
     "metadata": {},
     "output_type": "execute_result"
    }
   ],
   "source": [
    "demog_new[['PRAEGENDE_JUGENDJAHRE_DECADE', 'PRAEGENDE_JUGENDJAHRE_MOVEMENT']].head(10)"
   ]
  },
  {
   "cell_type": "markdown",
   "metadata": {},
   "source": [
    "Now we will move on to the next one. It's info from the data dictionary is:\n",
    "\n",
    "CAMEO_INTL_2015\n",
    "German CAMEO: Wealth / Life Stage Typology, mapped to international code\n",
    "- -1: unknown\n",
    "- 11: Wealthy Households - Pre-Family Couples & Singles\n",
    "- 12: Wealthy Households - Young Couples With Children\n",
    "- 13: Wealthy Households - Families With School Age Children\n",
    "- 14: Wealthy Households - Older Families &  Mature Couples\n",
    "- 15: Wealthy Households - Elders In Retirement\n",
    "- 21: Prosperous Households - Pre-Family Couples & Singles\n",
    "- 22: Prosperous Households - Young Couples With Children\n",
    "- 23: Prosperous Households - Families With School Age Children\n",
    "- 24: Prosperous Households - Older Families & Mature Couples\n",
    "- 25: Prosperous Households - Elders In Retirement\n",
    "- 31: Comfortable Households - Pre-Family Couples & Singles\n",
    "- 32: Comfortable Households - Young Couples With Children\n",
    "- 33: Comfortable Households - Families With School Age Children\n",
    "- 34: Comfortable Households - Older Families & Mature Couples\n",
    "- 35: Comfortable Households - Elders In Retirement\n",
    "- 41: Less Affluent Households - Pre-Family Couples & Singles\n",
    "- 42: Less Affluent Households - Young Couples With Children\n",
    "- 43: Less Affluent Households - Families With School Age Children\n",
    "- 44: Less Affluent Households - Older Families & Mature Couples\n",
    "- 45: Less Affluent Households - Elders In Retirement\n",
    "- 51: Poorer Households - Pre-Family Couples & Singles\n",
    "- 52: Poorer Households - Young Couples With Children\n",
    "- 53: Poorer Households - Families With School Age Children\n",
    "- 54: Poorer Households - Older Families & Mature Couples\n",
    "- 55: Poorer Households - Elders In Retirement\n",
    "- XX: unknown\n",
    "\n",
    "The -1 and XX values were already removed - we should be able to just split the first and second digit using some simple string functions."
   ]
  },
  {
   "cell_type": "code",
   "execution_count": 235,
   "metadata": {},
   "outputs": [],
   "source": [
    "# Investigate \"CAMEO_INTL_2015\" and engineer two new variables.\n",
    "demog_new['CAMEO_INTL_2015_0']=demog_new.CAMEO_INTL_2015.dropna().apply(lambda x: int(str(x)[0]))\n",
    "demog_new['CAMEO_INTL_2015_1']=demog_new.CAMEO_INTL_2015.dropna().apply(lambda x: int(str(x)[1]))"
   ]
  },
  {
   "cell_type": "markdown",
   "metadata": {},
   "source": [
    "Looks like it worked!"
   ]
  },
  {
   "cell_type": "code",
   "execution_count": 234,
   "metadata": {},
   "outputs": [
    {
     "data": {
      "text/plain": [
       "1    1.0\n",
       "2    4.0\n",
       "3    2.0\n",
       "4    3.0\n",
       "5    4.0\n",
       "Name: CAMEO_INTL_2015_0, dtype: float64"
      ]
     },
     "execution_count": 234,
     "metadata": {},
     "output_type": "execute_result"
    }
   ],
   "source": [
    "demog_new.CAMEO_INTL_2015_0.head()"
   ]
  },
  {
   "cell_type": "markdown",
   "metadata": {},
   "source": [
    "Now I'll drop the mixed features I decided not to use or have already encoded."
   ]
  },
  {
   "cell_type": "code",
   "execution_count": 239,
   "metadata": {},
   "outputs": [],
   "source": [
    "mix_to_drop = ['PRAEGENDE_JUGENDJAHRE', 'CAMEO_INTL_2015', 'LP_LEBENSPHASE_FEIN', 'LP_LEBENSPHASE_GROB']\n",
    "demog_new.drop(mix_to_drop, axis=1, inplace=True)"
   ]
  },
  {
   "cell_type": "markdown",
   "metadata": {},
   "source": [
    "#### Discussion 1.2.2: Engineer Mixed-Type Features\n",
    "\n",
    "(Double-click this cell and replace this text with your own text, reporting your findings and decisions regarding mixed-value features. Which ones did you keep, which did you drop, and what engineering steps did you perform?)\n",
    "\n",
    "Two columns were transformed in accordance with their meaning. This was pretty easily done since the columns contained a few easily separable features:\n",
    "- PRAEGENDE_JUGENDJAHRE\n",
    "- CAMEO_INTL_2015\n",
    "\n",
    "A few columns were just kept. These columns were very similar to ordinal columns which mapped the number of homes or families in an area. They were classified as mixed because there was a flag related to business or rural homes, but I didn't think this was significant enough to require dropping or re-engineering:\n",
    "- WOHNLAGE \n",
    "- KBA05_BAUMAX \n",
    "- PLZ8_BAUMAX\n",
    "\n",
    "Two mixed columns were dropped. After looking through the definition of these features in the data dictionary I did not find an easy way to split them into a small number of features.\n",
    "- LP_LEBENSPHASE_FEIN\n",
    "- LP_LEBENSPHASE_GROB"
   ]
  },
  {
   "cell_type": "markdown",
   "metadata": {},
   "source": [
    "#### Step 1.2.3: Complete Feature Selection\n",
    "\n",
    "In order to finish this step up, you need to make sure that your data frame now only has the columns that you want to keep. To summarize, the dataframe should consist of the following:\n",
    "- All numeric, interval, and ordinal type columns from the original dataset.\n",
    "- Binary categorical features (all numerically-encoded).\n",
    "- Engineered features from other multi-level categorical features and mixed features.\n",
    "\n",
    "Make sure that for any new columns that you have engineered, that you've excluded the original columns from the final dataset. Otherwise, their values will interfere with the analysis later on the project. For example, you should not keep \"PRAEGENDE_JUGENDJAHRE\", since its values won't be useful for the algorithm: only the values derived from it in the engineered features you created should be retained. As a reminder, your data should only be from **the subset with few or no missing values**."
   ]
  },
  {
   "cell_type": "markdown",
   "metadata": {},
   "source": [
    "We can double check by looking at info to see if there are only numeric values and not too many missing values:"
   ]
  },
  {
   "cell_type": "code",
   "execution_count": 240,
   "metadata": {
    "scrolled": true
   },
   "outputs": [
    {
     "name": "stdout",
     "output_type": "stream",
     "text": [
      "<class 'pandas.core.frame.DataFrame'>\n",
      "Int64Index: 797837 entries, 1 to 891220\n",
      "Data columns (total 83 columns):\n",
      "ALTERSKATEGORIE_GROB              795037 non-null float64\n",
      "ANREDE_KZ                         797837 non-null int64\n",
      "FINANZ_MINIMALIST                 797837 non-null int64\n",
      "FINANZ_SPARER                     797837 non-null int64\n",
      "FINANZ_VORSORGER                  797837 non-null int64\n",
      "FINANZ_ANLEGER                    797837 non-null int64\n",
      "FINANZ_UNAUFFAELLIGER             797837 non-null int64\n",
      "FINANZ_HAUSBAUER                  797837 non-null int64\n",
      "GREEN_AVANTGARDE                  797837 non-null int64\n",
      "HEALTH_TYP                        761193 non-null float64\n",
      "RETOURTYP_BK_S                    793171 non-null float64\n",
      "SEMIO_SOZ                         797837 non-null int64\n",
      "SEMIO_FAM                         797837 non-null int64\n",
      "SEMIO_REL                         797837 non-null int64\n",
      "SEMIO_MAT                         797837 non-null int64\n",
      "SEMIO_VERT                        797837 non-null int64\n",
      "SEMIO_LUST                        797837 non-null int64\n",
      "SEMIO_ERL                         797837 non-null int64\n",
      "SEMIO_KULT                        797837 non-null int64\n",
      "SEMIO_RAT                         797837 non-null int64\n",
      "SEMIO_KRIT                        797837 non-null int64\n",
      "SEMIO_DOM                         797837 non-null int64\n",
      "SEMIO_KAEM                        797837 non-null int64\n",
      "SEMIO_PFLICHT                     797837 non-null int64\n",
      "SEMIO_TRADV                       797837 non-null int64\n",
      "SOHO_KZ                           797837 non-null float64\n",
      "VERS_TYP                          761193 non-null float64\n",
      "ANZ_PERSONEN                      797837 non-null float64\n",
      "ANZ_TITEL                         797837 non-null float64\n",
      "HH_EINKOMMEN_SCORE                797837 non-null float64\n",
      "W_KEIT_KIND_HH                    738660 non-null float64\n",
      "WOHNDAUER_2008                    797837 non-null float64\n",
      "ANZ_HAUSHALTE_AKTIV               791424 non-null float64\n",
      "ANZ_HH_TITEL                      794027 non-null float64\n",
      "KONSUMNAEHE                       797767 non-null float64\n",
      "MIN_GEBAEUDEJAHR                  797837 non-null float64\n",
      "OST_WEST_KZ                       797837 non-null int64\n",
      "WOHNLAGE                          797837 non-null float64\n",
      "KBA05_ANTG1                       757897 non-null float64\n",
      "KBA05_ANTG2                       757897 non-null float64\n",
      "KBA05_ANTG3                       757897 non-null float64\n",
      "KBA05_ANTG4                       757897 non-null float64\n",
      "KBA05_GBZ                         757897 non-null float64\n",
      "BALLRAUM                          797245 non-null float64\n",
      "EWDICHTE                          797245 non-null float64\n",
      "INNENSTADT                        797245 non-null float64\n",
      "GEBAEUDETYP_RASTER                797830 non-null float64\n",
      "KKK                               733119 non-null float64\n",
      "MOBI_REGIO                        757897 non-null float64\n",
      "ONLINE_AFFINITAET                 793171 non-null float64\n",
      "REGIOTYP                          733119 non-null float64\n",
      "KBA13_ANZAHL_PKW                  785363 non-null float64\n",
      "PLZ8_ANTG1                        774705 non-null float64\n",
      "PLZ8_ANTG2                        774705 non-null float64\n",
      "PLZ8_ANTG3                        774705 non-null float64\n",
      "PLZ8_ANTG4                        774705 non-null float64\n",
      "PLZ8_BAUMAX                       774705 non-null float64\n",
      "PLZ8_HHZ                          774705 non-null float64\n",
      "PLZ8_GBZ                          774705 non-null float64\n",
      "ARBEIT                            793613 non-null float64\n",
      "ORTSGR_KLS9                       793714 non-null float64\n",
      "RELAT_AB                          793613 non-null float64\n",
      "NATIONALITAET_KZ_1.0              797837 non-null uint8\n",
      "NATIONALITAET_KZ_2.0              797837 non-null uint8\n",
      "NATIONALITAET_KZ_3.0              797837 non-null uint8\n",
      "SHOPPER_TYP_0.0                   797837 non-null uint8\n",
      "SHOPPER_TYP_1.0                   797837 non-null uint8\n",
      "SHOPPER_TYP_2.0                   797837 non-null uint8\n",
      "SHOPPER_TYP_3.0                   797837 non-null uint8\n",
      "LP_STATUS_GROB_1.0                797837 non-null uint8\n",
      "LP_STATUS_GROB_2.0                797837 non-null uint8\n",
      "LP_STATUS_GROB_3.0                797837 non-null uint8\n",
      "LP_STATUS_GROB_4.0                797837 non-null uint8\n",
      "LP_STATUS_GROB_5.0                797837 non-null uint8\n",
      "LP_FAMILIE_GROB_1.0               797837 non-null uint8\n",
      "LP_FAMILIE_GROB_2.0               797837 non-null uint8\n",
      "LP_FAMILIE_GROB_3.0               797837 non-null uint8\n",
      "LP_FAMILIE_GROB_4.0               797837 non-null uint8\n",
      "LP_FAMILIE_GROB_5.0               797837 non-null uint8\n",
      "PRAEGENDE_JUGENDJAHRE_DECADE      769164 non-null float64\n",
      "PRAEGENDE_JUGENDJAHRE_MOVEMENT    769164 non-null float64\n",
      "CAMEO_INTL_2015_0                 791768 non-null float64\n",
      "CAMEO_INTL_2015_1                 791768 non-null float64\n",
      "dtypes: float64(43), int64(23), uint8(17)\n",
      "memory usage: 440.8 MB\n"
     ]
    }
   ],
   "source": [
    "# If there are other re-engineering tasks you need to perform, make sure you\n",
    "# take care of them here. (Dealing with missing data will come in step 2.1.)\n",
    "\n",
    "demog_new.info()"
   ]
  },
  {
   "cell_type": "code",
   "execution_count": 38,
   "metadata": {},
   "outputs": [],
   "source": [
    "# Do whatever you need to in order to ensure that the dataframe only contains\n",
    "# the columns that should be passed to the algorithm functions.\n",
    "\n",
    "# We shouldn't have to do anything, we are all good!"
   ]
  },
  {
   "cell_type": "markdown",
   "metadata": {},
   "source": [
    "### Step 1.3: Create a Cleaning Function\n",
    "\n",
    "Even though you've finished cleaning up the general population demographics data, it's important to look ahead to the future and realize that you'll need to perform the same cleaning steps on the customer demographics data. In this substep, complete the function below to execute the main feature selection, encoding, and re-engineering steps you performed above. Then, when it comes to looking at the customer data in Step 3, you can just run this function on that DataFrame to get the trimmed dataset in a single step."
   ]
  },
  {
   "cell_type": "markdown",
   "metadata": {},
   "source": [
    "I copied these functions down here since they come in handy for the clean data function! Everything gets used within the function so it makes sense to consolidate it again."
   ]
  },
  {
   "cell_type": "code",
   "execution_count": 11,
   "metadata": {},
   "outputs": [],
   "source": [
    "def parse_missing_string(s):\n",
    "    try:\n",
    "        return [int(x) for x in s.strip('[]').split(',')]\n",
    "    except:\n",
    "        return s.strip('[]').split(',')"
   ]
  },
  {
   "cell_type": "code",
   "execution_count": 12,
   "metadata": {},
   "outputs": [],
   "source": [
    "missing_map = feat_info.set_index('attribute').missing_or_unknown.apply(parse_missing_string).to_dict()"
   ]
  },
  {
   "cell_type": "code",
   "execution_count": 13,
   "metadata": {},
   "outputs": [],
   "source": [
    "def missing_percent(df, axis=0):\n",
    "    return df.isnull().sum(axis=axis)/df.shape[axis]"
   ]
  },
  {
   "cell_type": "code",
   "execution_count": 14,
   "metadata": {},
   "outputs": [],
   "source": [
    "# maps each decade starting at 40s=1 and ending at 90s=6\n",
    "decade_map = {\n",
    "    1:1,\n",
    "    2:1,\n",
    "    3:2,\n",
    "    4:2,\n",
    "    5:3,\n",
    "    6:3,\n",
    "    7:3,\n",
    "    8:4,\n",
    "    9:4,\n",
    "    10:5,\n",
    "    11:5,\n",
    "    12:5,\n",
    "    13:5,\n",
    "    14:6,\n",
    "    15:6\n",
    "}\n",
    "\n",
    "# maps values for each movement Mainstream=0, Avantgarde=1\n",
    "movement_map = {\n",
    "    1:0,\n",
    "    2:1,\n",
    "    3:0,\n",
    "    4:1,\n",
    "    5:0,\n",
    "    6:1,\n",
    "    7:1,\n",
    "    8:0,\n",
    "    9:1,\n",
    "    10:0,\n",
    "    11:1,\n",
    "    12:0,\n",
    "    13:1,\n",
    "    14:0,\n",
    "    15:1\n",
    "}"
   ]
  },
  {
   "cell_type": "code",
   "execution_count": 15,
   "metadata": {},
   "outputs": [],
   "source": [
    "def clean_data(df):\n",
    "    \"\"\"\n",
    "    Perform feature trimming, re-encoding, and engineering for demographics\n",
    "    data\n",
    "    \n",
    "    INPUT: Demographics DataFrame\n",
    "    OUTPUT: Trimmed and cleaned demographics DataFrame\n",
    "    \"\"\"\n",
    "    print('Data cleaning starting, initially there are {} missing values.'.format(df.isnull().sum().sum()))\n",
    "    \n",
    "    # convert missing value codes into NaNs, ...\n",
    "    print('Converting missing values to NaN via missing map.')\n",
    "    res = df.replace(missing_map, np.nan)\n",
    "    print('Total NaN count is now {}.'.format(res.isnull().sum().sum()))\n",
    "    \n",
    "    ############################################\n",
    "    # remove selected columns and rows, ...\n",
    "    \n",
    "    # remove a hardcoded list of columns, I don't want the available columns to be tied to missing values\n",
    "    many_nan_cols = ['AGER_TYP', 'GEBURTSJAHR', 'TITEL_KZ', 'ALTER_HH', 'KK_KUNDENTYP', 'KBA05_BAUMAX']\n",
    "    print('Dropping columns found to have a high number of NaN:')\n",
    "    print(many_nan_cols)\n",
    "    print()\n",
    "    \n",
    "    res.drop(many_nan_cols, axis=1, inplace=True)\n",
    "    \n",
    "    # Check what fraction of the dataset is high NaN\n",
    "    print('Removing rows with a high number of NaN values.')\n",
    "    res_high = res[missing_percent(res, axis=1) > 0.3]\n",
    "    print('Removed {} rows, {} percent of the dataset'.format(res_high.shape[0], \n",
    "                                                              round(100*res_high.shape[0]/res.shape[0],1)))\n",
    "    # extract the low NaN rows to move forward\n",
    "    res = res[missing_percent(res, axis=1) <= 0.3]\n",
    "    print()\n",
    "    #############################################\n",
    "    # select, re-encode, and engineer column values.\n",
    "    print('Performing feature encoding')\n",
    "    \n",
    "    # re-encode the binary column\n",
    "    res.loc[:,'OST_WEST_KZ']=res.OST_WEST_KZ.map({'W':0, 'O':1})\n",
    "    \n",
    "    # one hot encode categorical cols with <= 5 categories\n",
    "    ohe_cols = ['NATIONALITAET_KZ', 'SHOPPER_TYP', 'LP_STATUS_GROB', 'LP_FAMILIE_GROB']\n",
    "    print('Encoding columns:')\n",
    "    print(ohe_cols)\n",
    "    res = pd.get_dummies(res, columns=ohe_cols)\n",
    "    \n",
    "    # drop columns for categorical features with >=6 categories\n",
    "    print('Dropping hard to use multi category columns:')\n",
    "    drop_multi_cat_cols = ['FINANZTYP', 'ZABEOTYP', 'CJT_GESAMTTYP', 'GEBAEUDETYP', 'CAMEO_DEUG_2015',     \n",
    "                            'LP_STATUS_FEIN', 'LP_FAMILIE_FEIN',  'GFK_URLAUBERTYP', 'CAMEO_DEU_2015']\n",
    "    print(drop_multi_cat_cols)\n",
    "    res.drop(drop_multi_cat_cols, axis=1, inplace=True)\n",
    "    \n",
    "    print()\n",
    "    # Engineer mixed features\n",
    "    print('Handling mixed features.')\n",
    "    res['PRAEGENDE_JUGENDJAHRE_DECADE'] = res.PRAEGENDE_JUGENDJAHRE.map(decade_map)\n",
    "    res['PRAEGENDE_JUGENDJAHRE_MOVEMENT'] = res.PRAEGENDE_JUGENDJAHRE.map(movement_map)\n",
    "    \n",
    "    res['CAMEO_INTL_2015_0']=res.CAMEO_INTL_2015.dropna().apply(lambda x: int(str(x)[0]))\n",
    "    res['CAMEO_INTL_2015_1']=res.CAMEO_INTL_2015.dropna().apply(lambda x: int(str(x)[1]))\n",
    "    \n",
    "    # Drop mixed features\n",
    "    print('Dropping encoded or hard to use mixed features:')\n",
    "    mix_to_drop = ['PRAEGENDE_JUGENDJAHRE', 'CAMEO_INTL_2015', 'LP_LEBENSPHASE_FEIN', 'LP_LEBENSPHASE_GROB']\n",
    "    print(mix_to_drop)\n",
    "    res.drop(mix_to_drop, axis=1, inplace=True)\n",
    "    \n",
    "    ##############################################\n",
    "    print()\n",
    "    # Return the cleaned dataframe.\n",
    "    print('Done!')\n",
    "    return res\n",
    "    "
   ]
  },
  {
   "cell_type": "markdown",
   "metadata": {},
   "source": [
    "Let's check that it works!"
   ]
  },
  {
   "cell_type": "code",
   "execution_count": 16,
   "metadata": {},
   "outputs": [
    {
     "name": "stdout",
     "output_type": "stream",
     "text": [
      "Data cleaning starting, initially there are 4896838 missing values.\n",
      "Converting missing values to NaN via missing map.\n",
      "Total NaN count is now 8373929.\n",
      "Dropping columns found to have a high number of NaN:\n",
      "['AGER_TYP', 'GEBURTSJAHR', 'TITEL_KZ', 'ALTER_HH', 'KK_KUNDENTYP', 'KBA05_BAUMAX']\n",
      "\n",
      "Removing rows with a high number of NaN values.\n",
      "Removed 93384 rows, 10.5 percent of the dataset\n",
      "\n",
      "Performing feature encoding\n",
      "Encoding columns:\n",
      "['NATIONALITAET_KZ', 'SHOPPER_TYP', 'LP_STATUS_GROB', 'LP_FAMILIE_GROB']\n",
      "Dropping hard to usemulti category columns:\n",
      "['FINANZTYP', 'ZABEOTYP', 'CJT_GESAMTTYP', 'GEBAEUDETYP', 'CAMEO_DEUG_2015', 'LP_STATUS_FEIN', 'LP_FAMILIE_FEIN', 'GFK_URLAUBERTYP', 'CAMEO_DEU_2015']\n",
      "\n",
      "Handling mixed features.\n",
      "Dropping encoded or hard to use mixed features:\n",
      "['PRAEGENDE_JUGENDJAHRE', 'CAMEO_INTL_2015', 'LP_LEBENSPHASE_FEIN', 'LP_LEBENSPHASE_GROB']\n",
      "\n",
      "Done!\n"
     ]
    }
   ],
   "source": [
    "demographics = clean_data(azdias)"
   ]
  },
  {
   "cell_type": "code",
   "execution_count": 33,
   "metadata": {
    "scrolled": true
   },
   "outputs": [
    {
     "name": "stdout",
     "output_type": "stream",
     "text": [
      "<class 'pandas.core.frame.DataFrame'>\n",
      "Int64Index: 797384 entries, 1 to 891220\n",
      "Data columns (total 83 columns):\n",
      "ALTERSKATEGORIE_GROB              794599 non-null float64\n",
      "ANREDE_KZ                         797384 non-null int64\n",
      "FINANZ_MINIMALIST                 797384 non-null int64\n",
      "FINANZ_SPARER                     797384 non-null int64\n",
      "FINANZ_VORSORGER                  797384 non-null int64\n",
      "FINANZ_ANLEGER                    797384 non-null int64\n",
      "FINANZ_UNAUFFAELLIGER             797384 non-null int64\n",
      "FINANZ_HAUSBAUER                  797384 non-null int64\n",
      "GREEN_AVANTGARDE                  797384 non-null int64\n",
      "HEALTH_TYP                        760957 non-null float64\n",
      "RETOURTYP_BK_S                    792744 non-null float64\n",
      "SEMIO_SOZ                         797384 non-null int64\n",
      "SEMIO_FAM                         797384 non-null int64\n",
      "SEMIO_REL                         797384 non-null int64\n",
      "SEMIO_MAT                         797384 non-null int64\n",
      "SEMIO_VERT                        797384 non-null int64\n",
      "SEMIO_LUST                        797384 non-null int64\n",
      "SEMIO_ERL                         797384 non-null int64\n",
      "SEMIO_KULT                        797384 non-null int64\n",
      "SEMIO_RAT                         797384 non-null int64\n",
      "SEMIO_KRIT                        797384 non-null int64\n",
      "SEMIO_DOM                         797384 non-null int64\n",
      "SEMIO_KAEM                        797384 non-null int64\n",
      "SEMIO_PFLICHT                     797384 non-null int64\n",
      "SEMIO_TRADV                       797384 non-null int64\n",
      "SOHO_KZ                           797384 non-null float64\n",
      "VERS_TYP                          760957 non-null float64\n",
      "ANZ_PERSONEN                      797384 non-null float64\n",
      "ANZ_TITEL                         797384 non-null float64\n",
      "HH_EINKOMMEN_SCORE                797384 non-null float64\n",
      "W_KEIT_KIND_HH                    738486 non-null float64\n",
      "WOHNDAUER_2008                    797384 non-null float64\n",
      "ANZ_HAUSHALTE_AKTIV               791053 non-null float64\n",
      "ANZ_HH_TITEL                      793654 non-null float64\n",
      "KONSUMNAEHE                       797315 non-null float64\n",
      "MIN_GEBAEUDEJAHR                  797384 non-null float64\n",
      "OST_WEST_KZ                       797384 non-null int64\n",
      "WOHNLAGE                          797384 non-null float64\n",
      "KBA05_ANTG1                       757889 non-null float64\n",
      "KBA05_ANTG2                       757889 non-null float64\n",
      "KBA05_ANTG3                       757889 non-null float64\n",
      "KBA05_ANTG4                       757889 non-null float64\n",
      "KBA05_GBZ                         757889 non-null float64\n",
      "BALLRAUM                          796793 non-null float64\n",
      "EWDICHTE                          796793 non-null float64\n",
      "INNENSTADT                        796793 non-null float64\n",
      "GEBAEUDETYP_RASTER                797378 non-null float64\n",
      "KKK                               732983 non-null float64\n",
      "MOBI_REGIO                        757889 non-null float64\n",
      "ONLINE_AFFINITAET                 792744 non-null float64\n",
      "REGIOTYP                          732983 non-null float64\n",
      "KBA13_ANZAHL_PKW                  785148 non-null float64\n",
      "PLZ8_ANTG1                        774701 non-null float64\n",
      "PLZ8_ANTG2                        774701 non-null float64\n",
      "PLZ8_ANTG3                        774701 non-null float64\n",
      "PLZ8_ANTG4                        774701 non-null float64\n",
      "PLZ8_BAUMAX                       774701 non-null float64\n",
      "PLZ8_HHZ                          774701 non-null float64\n",
      "PLZ8_GBZ                          774701 non-null float64\n",
      "ARBEIT                            793162 non-null float64\n",
      "ORTSGR_KLS9                       793263 non-null float64\n",
      "RELAT_AB                          793162 non-null float64\n",
      "NATIONALITAET_KZ_1.0              797384 non-null uint8\n",
      "NATIONALITAET_KZ_2.0              797384 non-null uint8\n",
      "NATIONALITAET_KZ_3.0              797384 non-null uint8\n",
      "SHOPPER_TYP_0.0                   797384 non-null uint8\n",
      "SHOPPER_TYP_1.0                   797384 non-null uint8\n",
      "SHOPPER_TYP_2.0                   797384 non-null uint8\n",
      "SHOPPER_TYP_3.0                   797384 non-null uint8\n",
      "LP_STATUS_GROB_1.0                797384 non-null uint8\n",
      "LP_STATUS_GROB_2.0                797384 non-null uint8\n",
      "LP_STATUS_GROB_3.0                797384 non-null uint8\n",
      "LP_STATUS_GROB_4.0                797384 non-null uint8\n",
      "LP_STATUS_GROB_5.0                797384 non-null uint8\n",
      "LP_FAMILIE_GROB_1.0               797384 non-null uint8\n",
      "LP_FAMILIE_GROB_2.0               797384 non-null uint8\n",
      "LP_FAMILIE_GROB_3.0               797384 non-null uint8\n",
      "LP_FAMILIE_GROB_4.0               797384 non-null uint8\n",
      "LP_FAMILIE_GROB_5.0               797384 non-null uint8\n",
      "PRAEGENDE_JUGENDJAHRE_DECADE      769003 non-null float64\n",
      "PRAEGENDE_JUGENDJAHRE_MOVEMENT    769003 non-null float64\n",
      "CAMEO_INTL_2015_0                 791433 non-null float64\n",
      "CAMEO_INTL_2015_1                 791433 non-null float64\n",
      "dtypes: float64(43), int64(23), uint8(17)\n",
      "memory usage: 420.5 MB\n"
     ]
    }
   ],
   "source": [
    "demographics.info()"
   ]
  },
  {
   "cell_type": "markdown",
   "metadata": {},
   "source": [
    "Looks pretty good! All numeric data types without many missing values. Time to move on to the rest of the project!"
   ]
  },
  {
   "cell_type": "markdown",
   "metadata": {},
   "source": [
    "## Step 2: Feature Transformation\n",
    "\n",
    "### Step 2.1: Apply Feature Scaling\n",
    "\n",
    "Before we apply dimensionality reduction techniques to the data, we need to perform feature scaling so that the principal component vectors are not influenced by the natural differences in scale for features. Starting from this part of the project, you'll want to keep an eye on the [API reference page for sklearn](http://scikit-learn.org/stable/modules/classes.html) to help you navigate to all of the classes and functions that you'll need. In this substep, you'll need to check the following:\n",
    "\n",
    "- sklearn requires that data not have missing values in order for its estimators to work properly. So, before applying the scaler to your data, make sure that you've cleaned the DataFrame of the remaining missing values. This can be as simple as just removing all data points with missing data, or applying an [Imputer](http://scikit-learn.org/stable/modules/generated/sklearn.preprocessing.Imputer.html) to replace all missing values. You might also try a more complicated procedure where you temporarily remove missing values in order to compute the scaling parameters before re-introducing those missing values and applying imputation. Think about how much missing data you have and what possible effects each approach might have on your analysis, and justify your decision in the discussion section below.\n",
    "- For the actual scaling function, a [StandardScaler](http://scikit-learn.org/stable/modules/generated/sklearn.preprocessing.StandardScaler.html) instance is suggested, scaling each feature to mean 0 and standard deviation 1.\n",
    "- For these classes, you can make use of the `.fit_transform()` method to both fit a procedure to the data as well as apply the transformation to the data at the same time. Don't forget to keep the fit sklearn objects handy, since you'll be applying them to the customer demographics data towards the end of the project."
   ]
  },
  {
   "cell_type": "code",
   "execution_count": 16,
   "metadata": {
    "scrolled": false
   },
   "outputs": [
    {
     "data": {
      "text/plain": [
       "<matplotlib.axes._subplots.AxesSubplot at 0x7f6d30e440b8>"
      ]
     },
     "execution_count": 16,
     "metadata": {},
     "output_type": "execute_result"
    },
    {
     "data": {
      "image/png": "[encoded data removed]",
      "text/plain": [
       "<matplotlib.figure.Figure at 0x7f6d32f51fd0>"
      ]
     },
     "metadata": {},
     "output_type": "display_data"
    }
   ],
   "source": [
    "# If you've not yet cleaned the dataset of all NaN values, then investigate and\n",
    "# do that now.\n",
    "missing_percent(demographics).hist(bins=50, figsize=(12,6))"
   ]
  },
  {
   "cell_type": "code",
   "execution_count": 17,
   "metadata": {
    "scrolled": false
   },
   "outputs": [
    {
     "data": {
      "text/plain": [
       "<matplotlib.axes._subplots.AxesSubplot at 0x7f6d30d2a080>"
      ]
     },
     "execution_count": 17,
     "metadata": {},
     "output_type": "execute_result"
    },
    {
     "data": {
      "image/png": "[encoded data removed]",
      "text/plain": [
       "<matplotlib.figure.Figure at 0x7f6d30d35f60>"
      ]
     },
     "metadata": {},
     "output_type": "display_data"
    }
   ],
   "source": [
    "missing_percent(demographics, axis=1).hist(bins=25, figsize=(12,6))"
   ]
  },
  {
   "cell_type": "code",
   "execution_count": 17,
   "metadata": {},
   "outputs": [],
   "source": [
    "from sklearn.preprocessing import Imputer\n",
    "from sklearn.preprocessing import StandardScaler\n",
    "\n",
    "imp = Imputer(strategy='most_frequent')\n",
    "scaler = StandardScaler()"
   ]
  },
  {
   "cell_type": "code",
   "execution_count": 18,
   "metadata": {},
   "outputs": [],
   "source": [
    "# Apply feature scaling to the general population demographics data.\n",
    "X = imp.fit_transform(demographics)\n",
    "X = scaler.fit_transform(X)"
   ]
  },
  {
   "cell_type": "markdown",
   "metadata": {},
   "source": [
    "### Discussion 2.1: Apply Feature Scaling\n",
    "\n",
    "After takng a look at the percent of missing values on a columns/rows basis, I decided to impute the missing values with the most_frequent instead of dropping rows with missing values. That would have cost us a pretty significant amount of the data. The most_frequent method was the best choice here since most of our data is oridinal or categorical rather than numeric in nature.\n",
    "\n",
    "After than the data was scaled according to mean/stdev. This is good for clustering if all the features are of equal importance, it will give the most unbiased clustering. Improper scaling of features can lead to incorrect clustering if one feature has a much greater absolute value than others."
   ]
  },
  {
   "cell_type": "markdown",
   "metadata": {},
   "source": [
    "### Step 2.2: Perform Dimensionality Reduction\n",
    "\n",
    "On your scaled data, you are now ready to apply dimensionality reduction techniques.\n",
    "\n",
    "- Use sklearn's [PCA](http://scikit-learn.org/stable/modules/generated/sklearn.decomposition.PCA.html) class to apply principal component analysis on the data, thus finding the vectors of maximal variance in the data. To start, you should not set any parameters (so all components are computed) or set a number of components that is at least half the number of features (so there's enough features to see the general trend in variability).\n",
    "- Check out the ratio of variance explained by each principal component as well as the cumulative variance explained. Try plotting the cumulative or sequential values using matplotlib's [`plot()`](https://matplotlib.org/api/_as_gen/matplotlib.pyplot.plot.html) function. Based on what you find, select a value for the number of transformed features you'll retain for the clustering part of the project.\n",
    "- Once you've made a choice for the number of components to keep, make sure you re-fit a PCA instance to perform the decided-on transformation."
   ]
  },
  {
   "cell_type": "code",
   "execution_count": 19,
   "metadata": {},
   "outputs": [
    {
     "data": {
      "text/plain": [
       "PCA(copy=True, iterated_power='auto', n_components=None, random_state=None,\n",
       "  svd_solver='auto', tol=0.0, whiten=False)"
      ]
     },
     "execution_count": 19,
     "metadata": {},
     "output_type": "execute_result"
    }
   ],
   "source": [
    "# Apply PCA to the data.\n",
    "from sklearn.decomposition import PCA\n",
    "pca_1 = PCA()\n",
    "pca_1.fit(X)"
   ]
  },
  {
   "cell_type": "code",
   "execution_count": 20,
   "metadata": {},
   "outputs": [
    {
     "data": {
      "text/plain": [
       "[<matplotlib.lines.Line2D at 0x7f9992946eb8>]"
      ]
     },
     "execution_count": 20,
     "metadata": {},
     "output_type": "execute_result"
    },
    {
     "data": {
      "image/png": "[encoded data removed]",
      "text/plain": [
       "<matplotlib.figure.Figure at 0x7f9992946908>"
      ]
     },
     "metadata": {},
     "output_type": "display_data"
    }
   ],
   "source": [
    "# Investigate the variance accounted for by each principal component.\n",
    "plt.figure(figsize=(12,6))\n",
    "plt.plot(pca_1.explained_variance_ratio_)\n",
    "plt.plot(np.cumsum(pca_1.explained_variance_ratio_))"
   ]
  },
  {
   "cell_type": "code",
   "execution_count": 21,
   "metadata": {},
   "outputs": [],
   "source": [
    "# Re-apply PCA to the data while selecting for number of components to retain.\n",
    "pca = PCA(n_components=30)\n",
    "X_reduced = pca.fit_transform(X)"
   ]
  },
  {
   "cell_type": "markdown",
   "metadata": {},
   "source": [
    "### Discussion 2.2: Perform Dimensionality Reduction\n",
    "\n",
    "(Double-click this cell and replace this text with your own text, reporting your findings and decisions regarding dimensionality reduction. How many principal components / transformed features are you retaining for the next step of the analysis?)\n",
    "\n",
    "After doing PCA with no n_components it's not immedietely clear which number is the best to pick. There are clear diminishing returns but not a clear elbow point where most of the variance is explained. I chose to use 30 principle components because it will explain the majority of the variance with under half of the features."
   ]
  },
  {
   "cell_type": "markdown",
   "metadata": {},
   "source": [
    "### Step 2.3: Interpret Principal Components\n",
    "\n",
    "Now that we have our transformed principal components, it's a nice idea to check out the weight of each variable on the first few components to see if they can be interpreted in some fashion.\n",
    "\n",
    "As a reminder, each principal component is a unit vector that points in the direction of highest variance (after accounting for the variance captured by earlier principal components). The further a weight is from zero, the more the principal component is in the direction of the corresponding feature. If two features have large weights of the same sign (both positive or both negative), then increases in one tend expect to be associated with increases in the other. To contrast, features with different signs can be expected to show a negative correlation: increases in one variable should result in a decrease in the other.\n",
    "\n",
    "- To investigate the features, you should map each weight to their corresponding feature name, then sort the features according to weight. The most interesting features for each principal component, then, will be those at the beginning and end of the sorted list. Use the data dictionary document to help you understand these most prominent features, their relationships, and what a positive or negative value on the principal component might indicate.\n",
    "- You should investigate and interpret feature associations from the first three principal components in this substep. To help facilitate this, you should write a function that you can call at any time to print the sorted list of feature weights, for the *i*-th principal component. This might come in handy in the next step of the project, when you interpret the tendencies of the discovered clusters."
   ]
  },
  {
   "cell_type": "code",
   "execution_count": 23,
   "metadata": {},
   "outputs": [],
   "source": [
    "def component_features(i, columns, pca):\n",
    "    components=pd.DataFrame(pca.components_)\n",
    "    components.columns=columns\n",
    "    return components.iloc[i,:].sort_values()"
   ]
  },
  {
   "cell_type": "markdown",
   "metadata": {},
   "source": [
    "That function should be great for this purpose."
   ]
  },
  {
   "cell_type": "code",
   "execution_count": 26,
   "metadata": {
    "scrolled": true
   },
   "outputs": [
    {
     "data": {
      "text/plain": [
       "PLZ8_ANTG1          -0.213673\n",
       "MOBI_REGIO          -0.211646\n",
       "KBA05_GBZ           -0.205079\n",
       "FINANZ_MINIMALIST   -0.204396\n",
       "KBA05_ANTG1         -0.201784\n",
       "Name: 0, dtype: float64"
      ]
     },
     "execution_count": 26,
     "metadata": {},
     "output_type": "execute_result"
    }
   ],
   "source": [
    "# Map weights for the first principal component to corresponding feature names\n",
    "# and then print the linked values, sorted by weight.\n",
    "# HINT: Try defining a function here or in a new cell that you can reuse in the\n",
    "# other cells.\n",
    "component_features(0, demographics.columns, pca)[:5]"
   ]
  },
  {
   "cell_type": "code",
   "execution_count": 28,
   "metadata": {
    "scrolled": true
   },
   "outputs": [
    {
     "data": {
      "text/plain": [
       "HH_EINKOMMEN_SCORE    0.193834\n",
       "PLZ8_BAUMAX           0.203582\n",
       "PLZ8_ANTG4            0.207468\n",
       "LP_STATUS_GROB_1.0    0.212326\n",
       "PLZ8_ANTG3            0.213735\n",
       "Name: 0, dtype: float64"
      ]
     },
     "execution_count": 28,
     "metadata": {},
     "output_type": "execute_result"
    }
   ],
   "source": [
    "component_features(0, demographics.columns, pca)[-5:]"
   ]
  },
  {
   "cell_type": "markdown",
   "metadata": {},
   "source": [
    "Let's dive in to the first principle component. We see that it is strongly aligned with these features:\n",
    "\n",
    "Negatively associated:\n",
    "- PLZ8_ANTG1 Number of 1-2 family houses in the PLZ8 region (higher is more 1-2 family homes)\n",
    "- MOBI_REGIO Movement patterns (higher means lower movement)\n",
    "- KBA05_GBZ Number of buildings in the microcell (higher means more buildings)\n",
    "- FINANZ_MINIMALIST Low financial interest (financial topology, one of five features. high/low here is the number of people with low financial interest)\n",
    "- KBA05_ANTG1 Number of 1-2 family houses in the microcell (higher is more 1-2 family homes)\n",
    "\n",
    "Positively associated:\n",
    "- HH_EINKOMMEN_SCORE Estimated household net income (higher means lower income)\n",
    "- PLZ8_BAUMAX Most common building type within the PLZ8 region (higher is more buildings or business flag)\n",
    "- PLZ8_ANTG4 Number of 10+ family houses in the PLZ8 region (higher is more 10+ family homes)\n",
    "- LP_STATUS_GROB_1.0 Categorical feature, 1 here is very low income earners\n",
    "- PLZ8_ANTG3 Number of 6-10 family houses in the PLZ8 region (higher is more 6-10 family homes)\n",
    "\n",
    "Taking a look at these features the first principle component seems to involve very heavily the population density and the economic well being of a region. Higher scores on this component are both more population dense and less well off."
   ]
  },
  {
   "cell_type": "code",
   "execution_count": 29,
   "metadata": {
    "scrolled": true
   },
   "outputs": [
    {
     "data": {
      "text/plain": [
       "SEMIO_REL                      -0.260472\n",
       "PRAEGENDE_JUGENDJAHRE_DECADE   -0.242427\n",
       "FINANZ_SPARER                  -0.240340\n",
       "SEMIO_PFLICHT                  -0.231672\n",
       "SEMIO_TRADV                    -0.229945\n",
       "Name: 1, dtype: float64"
      ]
     },
     "execution_count": 29,
     "metadata": {},
     "output_type": "execute_result"
    }
   ],
   "source": [
    "# Map weights for the second principal component to corresponding feature names\n",
    "# and then print the linked values, sorted by weight.\n",
    "component_features(1, demographics.columns, pca)[:5]"
   ]
  },
  {
   "cell_type": "code",
   "execution_count": 30,
   "metadata": {
    "scrolled": false
   },
   "outputs": [
    {
     "data": {
      "text/plain": [
       "RETOURTYP_BK_S          0.157698\n",
       "SEMIO_LUST              0.182694\n",
       "SEMIO_ERL               0.232016\n",
       "FINANZ_VORSORGER        0.232730\n",
       "ALTERSKATEGORIE_GROB    0.261382\n",
       "Name: 1, dtype: float64"
      ]
     },
     "execution_count": 30,
     "metadata": {},
     "output_type": "execute_result"
    }
   ],
   "source": [
    "# Map weights for the second principal component to corresponding feature names\n",
    "# and then print the linked values, sorted by weight.\n",
    "component_features(1, demographics.columns, pca)[-5:]"
   ]
  },
  {
   "cell_type": "markdown",
   "metadata": {},
   "source": [
    "Dive in to the second principle component\n",
    "\n",
    "negative association\n",
    "- SEMIO_REL Religious affinity (higher means lower religious association)\n",
    "- PRAEGENDE_JUGENDJAHRE_DECADE constructed feature for birth decade (higher means later dominating movement)\n",
    "- FINANZ_SPARER Financial topography, money-saver (higher means less association with money saving)\n",
    "- SEMIO_PFLICHT Dutiful personality measure (higher means low affinity)\n",
    "- SEMIO_TRADV traditional-minded personality measure (higher means low affinity)\n",
    "\n",
    "positive association\n",
    "- RETOURTYP_BK_S Return type (seems to be shopper type, higher is lower spending)\n",
    "- SEMIO_LUST sensual-minded personality (higher means low affinity)\n",
    "- SEMIO_ERL event-oriented personality (higher means low affinity)\n",
    "- FINANZ_VORSORGER financial topography, prepared (higher means less association)\n",
    "- ALTERSKATEGORIE_GROB Estimated age based on given name analysis (higher is older)\n",
    "\n",
    "This features seems to combine both traditional / religion mindset in addition to age. The higher the feature the older, more traditionally minded, and better off financially the person is. Note that some of the features actually apply in the opposite direction as listed because a high value in that feature corresponds to LOW affinity."
   ]
  },
  {
   "cell_type": "code",
   "execution_count": 31,
   "metadata": {
    "scrolled": true
   },
   "outputs": [
    {
     "data": {
      "text/plain": [
       "ANREDE_KZ    -0.356290\n",
       "SEMIO_KAEM   -0.325953\n",
       "SEMIO_DOM    -0.304123\n",
       "SEMIO_KRIT   -0.268260\n",
       "SEMIO_RAT    -0.211113\n",
       "Name: 2, dtype: float64"
      ]
     },
     "execution_count": 31,
     "metadata": {},
     "output_type": "execute_result"
    }
   ],
   "source": [
    "# Map weights for the third principal component to corresponding feature names\n",
    "# and then print the linked values, sorted by weight.\n",
    "component_features(2, demographics.columns, pca)[:5]"
   ]
  },
  {
   "cell_type": "code",
   "execution_count": 32,
   "metadata": {
    "scrolled": true
   },
   "outputs": [
    {
     "data": {
      "text/plain": [
       "FINANZ_MINIMALIST    0.151345\n",
       "SEMIO_KULT           0.226372\n",
       "SEMIO_FAM            0.241957\n",
       "SEMIO_SOZ            0.256653\n",
       "SEMIO_VERT           0.333955\n",
       "Name: 2, dtype: float64"
      ]
     },
     "execution_count": 32,
     "metadata": {},
     "output_type": "execute_result"
    }
   ],
   "source": [
    "# Map weights for the third principal component to corresponding feature names\n",
    "# and then print the linked values, sorted by weight.\n",
    "component_features(2, demographics.columns, pca)[-5:]"
   ]
  },
  {
   "cell_type": "markdown",
   "metadata": {},
   "source": [
    "numero tres\n",
    "\n",
    "negative association\n",
    "- ANREDE_KZ Gender (1 male 2 female)\n",
    "- SEMIO_KAEM combative attitude  personality (higher means low affinity)\n",
    "- SEMIO_DOM dominant-minded  personality (higher means low affinity)\n",
    "- SEMIO_KRIT critical-minded  personality (higher means low affinity)\n",
    "- SEMIO_RAT rational  personality (higher means low affinity)\n",
    "\n",
    "Positive association\n",
    "- FINANZ_MINIMALIST Low financial interest (financial topology, one of five features. high/low here is the number of people with low financial interest)\n",
    "- SEMIO_KULT cultural-minded  personality (higher means low affinity)\n",
    "- SEMIO_FAM family-minded  personality (higher means low affinity)\n",
    "- SEMIO_SOZ socially-minded  personality (higher means low affinity)\n",
    "- SEMIO_VERT dreamful personality (higher means low affinity)\n",
    "\n",
    "This feature takes into account gender (positive association should be male and negative negative) and other personality traits seem to line up with stereotypical gender roles. Family and socially minded individueals increase as this principle component decreases, while aggrresive and critical ideas increase as this component increases. "
   ]
  },
  {
   "cell_type": "markdown",
   "metadata": {},
   "source": [
    "### Discussion 2.3: Interpret Principal Components\n",
    "\n",
    "(Double-click this cell and replace this text with your own text, reporting your observations from detailed investigation of the first few principal components generated. Can we interpret positive and negative values from them in a meaningful way?)\n",
    "\n",
    "Here I took a crack at intepreting the top 3 principle components. A more detailed analysis for each is above but the summary is:\n",
    "\n",
    "1. Population of area (higher is higher) and financial well being (higher is worse)\n",
    "2. Age and traditional/religious mindset (higher is older and more traditional)\n",
    "3. Gender and family values (higher is aggressive and dominant and lower is family oriented)"
   ]
  },
  {
   "cell_type": "markdown",
   "metadata": {},
   "source": [
    "## Step 3: Clustering\n",
    "\n",
    "### Step 3.1: Apply Clustering to General Population\n",
    "\n",
    "You've assessed and cleaned the demographics data, then scaled and transformed them. Now, it's time to see how the data clusters in the principal components space. In this substep, you will apply k-means clustering to the dataset and use the average within-cluster distances from each point to their assigned cluster's centroid to decide on a number of clusters to keep.\n",
    "\n",
    "- Use sklearn's [KMeans](http://scikit-learn.org/stable/modules/generated/sklearn.cluster.KMeans.html#sklearn.cluster.KMeans) class to perform k-means clustering on the PCA-transformed data.\n",
    "- Then, compute the average difference from each point to its assigned cluster's center. **Hint**: The KMeans object's `.score()` method might be useful here, but note that in sklearn, scores tend to be defined so that larger is better. Try applying it to a small, toy dataset, or use an internet search to help your understanding.\n",
    "- Perform the above two steps for a number of different cluster counts. You can then see how the average distance decreases with an increasing number of clusters. However, each additional cluster provides a smaller net benefit. Use this fact to select a final number of clusters in which to group the data. **Warning**: because of the large size of the dataset, it can take a long time for the algorithm to resolve. The more clusters to fit, the longer the algorithm will take. You should test for cluster counts through at least 10 clusters to get the full picture, but you shouldn't need to test for a number of clusters above about 30.\n",
    "- Once you've selected a final number of clusters to use, re-fit a KMeans instance to perform the clustering operation. Make sure that you also obtain the cluster assignments for the general demographics data, since you'll be using them in the final Step 3.3."
   ]
  },
  {
   "cell_type": "code",
   "execution_count": 33,
   "metadata": {},
   "outputs": [],
   "source": [
    "from sklearn.cluster import KMeans"
   ]
  },
  {
   "cell_type": "code",
   "execution_count": 37,
   "metadata": {},
   "outputs": [],
   "source": [
    "scores=[]\n",
    "\n",
    "# Over a number of different cluster counts...\n",
    "for k in range(2, 31):\n",
    "    \n",
    "    model = KMeans(n_clusters=k)\n",
    "    # run k-means clustering on the data and...\n",
    "    model.fit(X_reduced)\n",
    "    \n",
    "    # compute the average within-cluster distances.\n",
    "    scores.append(np.abs(model.score(X_reduced)))\n",
    "    "
   ]
  },
  {
   "cell_type": "code",
   "execution_count": 72,
   "metadata": {
    "collapsed": true
   },
   "outputs": [
    {
     "name": "stdout",
     "output_type": "stream",
     "text": [
      "[46336027.168361433, 43078031.351892456, 40719289.976073645, 38989576.933581196, 37629415.724720277, 36415327.87343663, 35491137.86688105, 34742182.25809484, 34114213.208011225, 33533648.744062219, 32926046.867110398, 32527903.333045673, 32160834.757564448, 31939839.97163194, 31377891.17347474, 30909899.035089198, 30535398.692706164, 30226560.328816574, 29980813.356498834, 30005493.148241565, 29589110.732568678, 29247769.987943523, 29061696.302388795, 28751897.109444775, 28477413.448690481, 28271237.796873793, 28050293.017858908, 27959721.640356708, 27794253.358362235]\n"
     ]
    }
   ],
   "source": [
    "print(scores)"
   ]
  },
  {
   "cell_type": "code",
   "execution_count": 144,
   "metadata": {},
   "outputs": [
    {
     "data": {
      "text/plain": [
       "[<matplotlib.lines.Line2D at 0x7f998e922f60>]"
      ]
     },
     "execution_count": 144,
     "metadata": {},
     "output_type": "execute_result"
    },
    {
     "data": {
      "image/png": "[encoded data removed]",
      "text/plain": [
       "<matplotlib.figure.Figure at 0x7f998e37c7b8>"
      ]
     },
     "metadata": {},
     "output_type": "display_data"
    }
   ],
   "source": [
    "# Investigate the change in within-cluster distance across number of clusters.\n",
    "# HINT: Use matplotlib's plot function to visualize this relationship.\n",
    "plt.figure(figsize=(12,8))\n",
    "plt.ylim=([0, 5e7])\n",
    "plt.plot(range(2,31), scores, 'b-o')"
   ]
  },
  {
   "cell_type": "code",
   "execution_count": 73,
   "metadata": {},
   "outputs": [
    {
     "data": {
      "text/plain": [
       "KMeans(algorithm='auto', copy_x=True, init='k-means++', max_iter=300,\n",
       "    n_clusters=17, n_init=10, n_jobs=1, precompute_distances='auto',\n",
       "    random_state=None, tol=0.0001, verbose=0)"
      ]
     },
     "execution_count": 73,
     "metadata": {},
     "output_type": "execute_result"
    }
   ],
   "source": [
    "# Re-fit the k-means model with the selected number of clusters and obtain\n",
    "# cluster predictions for the general population demographics data.\n",
    "model = KMeans(n_clusters=17)\n",
    "model.fit(X_reduced)"
   ]
  },
  {
   "cell_type": "code",
   "execution_count": 74,
   "metadata": {},
   "outputs": [],
   "source": [
    "demographic_labels=model.predict(X_reduced)"
   ]
  },
  {
   "cell_type": "markdown",
   "metadata": {},
   "source": [
    "### Discussion 3.1: Apply Clustering to General Population\n",
    "\n",
    "(Double-click this cell and replace this text with your own text, reporting your findings and decisions regarding clustering. Into how many clusters have you decided to segment the population?)\n",
    "\n",
    "I ended up deciding on **17** clusters. Though there was no clear elbow point, there was clear diminishing returns in processing speed and efficiency as the number of clusters increased. I judged that a good number of clusters would be between 15-20 as it has lost a lot of the distance between the centroids but has only around half the number of the max that I tested.\n",
    "\n",
    "I used the absolute value of the scikit-learn model scorer here - the model score is the negative of the sum of the distance to the centroids. They manually apply a negative in the function so that higher values are better, in our case making them positive is all we have to do to check out how the error relates to number of clusters!"
   ]
  },
  {
   "cell_type": "markdown",
   "metadata": {},
   "source": [
    "### Step 3.2: Apply All Steps to the Customer Data\n",
    "\n",
    "Now that you have clusters and cluster centers for the general population, it's time to see how the customer data maps on to those clusters. Take care to not confuse this for re-fitting all of the models to the customer data. Instead, you're going to use the fits from the general population to clean, transform, and cluster the customer data. In the last step of the project, you will interpret how the general population fits apply to the customer data.\n",
    "\n",
    "- Don't forget when loading in the customers data, that it is semicolon (`;`) delimited.\n",
    "- Apply the same feature wrangling, selection, and engineering steps to the customer demographics using the `clean_data()` function you created earlier. (You can assume that the customer demographics data has similar meaning behind missing data patterns as the general demographics data.)\n",
    "- Use the sklearn objects from the general demographics data, and apply their transformations to the customers data. That is, you should not be using a `.fit()` or `.fit_transform()` method to re-fit the old objects, nor should you be creating new sklearn objects! Carry the data through the feature scaling, PCA, and clustering steps, obtaining cluster assignments for all of the data in the customer demographics data."
   ]
  },
  {
   "cell_type": "code",
   "execution_count": 77,
   "metadata": {},
   "outputs": [],
   "source": [
    "# Load in the customer demographics data.\n",
    "customers_raw = pd.read_csv('Udacity_CUSTOMERS_Subset.csv', delimiter=';')"
   ]
  },
  {
   "cell_type": "markdown",
   "metadata": {},
   "source": [
    "Let's apply our great cleaning function!"
   ]
  },
  {
   "cell_type": "code",
   "execution_count": 78,
   "metadata": {},
   "outputs": [
    {
     "name": "stdout",
     "output_type": "stream",
     "text": [
      "Data cleaning starting, initially there are 2252274 missing values.\n",
      "Converting missing values to NaN via missing map.\n",
      "Total NaN count is now 3112918.\n",
      "Dropping columns found to have a high number of NaN:\n",
      "['AGER_TYP', 'GEBURTSJAHR', 'TITEL_KZ', 'ALTER_HH', 'KK_KUNDENTYP', 'KBA05_BAUMAX']\n",
      "\n",
      "Removing rows with a high number of NaN values.\n",
      "Removed 49962 rows, 26.1 percent of the dataset\n",
      "\n",
      "Performing feature encoding\n",
      "Encoding columns:\n",
      "['NATIONALITAET_KZ', 'SHOPPER_TYP', 'LP_STATUS_GROB', 'LP_FAMILIE_GROB']\n",
      "Dropping hard to usemulti category columns:\n",
      "['FINANZTYP', 'ZABEOTYP', 'CJT_GESAMTTYP', 'GEBAEUDETYP', 'CAMEO_DEUG_2015', 'LP_STATUS_FEIN', 'LP_FAMILIE_FEIN', 'GFK_URLAUBERTYP', 'CAMEO_DEU_2015']\n",
      "\n",
      "Handling mixed features.\n",
      "Dropping encoded or hard to use mixed features:\n",
      "['PRAEGENDE_JUGENDJAHRE', 'CAMEO_INTL_2015', 'LP_LEBENSPHASE_FEIN', 'LP_LEBENSPHASE_GROB']\n",
      "\n",
      "Done!\n"
     ]
    }
   ],
   "source": [
    "# Apply preprocessing, feature transformation, and clustering from the general\n",
    "# demographics onto the customer data, obtaining cluster predictions for the\n",
    "# customer demographics data.\n",
    "customers = clean_data(customers_raw)"
   ]
  },
  {
   "cell_type": "markdown",
   "metadata": {},
   "source": [
    "Everything looks great, time for transforms:"
   ]
  },
  {
   "cell_type": "code",
   "execution_count": 79,
   "metadata": {},
   "outputs": [],
   "source": [
    "X_c = scaler.transform(imp.transform(customers))"
   ]
  },
  {
   "cell_type": "code",
   "execution_count": 80,
   "metadata": {},
   "outputs": [],
   "source": [
    "X_c_reduced = pca.transform(X_c)"
   ]
  },
  {
   "cell_type": "markdown",
   "metadata": {},
   "source": [
    "Now we just have to run the reduced data through the model:"
   ]
  },
  {
   "cell_type": "code",
   "execution_count": 81,
   "metadata": {},
   "outputs": [],
   "source": [
    "customer_labels = model.predict(X_c_reduced)"
   ]
  },
  {
   "cell_type": "markdown",
   "metadata": {},
   "source": [
    "### Step 3.3: Compare Customer Data to Demographics Data\n",
    "\n",
    "At this point, you have clustered data based on demographics of the general population of Germany, and seen how the customer data for a mail-order sales company maps onto those demographic clusters. In this final substep, you will compare the two cluster distributions to see where the strongest customer base for the company is.\n",
    "\n",
    "Consider the proportion of persons in each cluster for the general population, and the proportions for the customers. If we think the company's customer base to be universal, then the cluster assignment proportions should be fairly similar between the two. If there are only particular segments of the population that are interested in the company's products, then we should see a mismatch from one to the other. If there is a higher proportion of persons in a cluster for the customer data compared to the general population (e.g. 5% of persons are assigned to a cluster for the general population, but 15% of the customer data is closest to that cluster's centroid) then that suggests the people in that cluster to be a target audience for the company. On the other hand, the proportion of the data in a cluster being larger in the general population than the customer data (e.g. only 2% of customers closest to a population centroid that captures 6% of the data) suggests that group of persons to be outside of the target demographics.\n",
    "\n",
    "Take a look at the following points in this step:\n",
    "\n",
    "- Compute the proportion of data points in each cluster for the general population and the customer data. Visualizations will be useful here: both for the individual dataset proportions, but also to visualize the ratios in cluster representation between groups. Seaborn's [`countplot()`](https://seaborn.pydata.org/generated/seaborn.countplot.html) or [`barplot()`](https://seaborn.pydata.org/generated/seaborn.barplot.html) function could be handy.\n",
    "  - Recall the analysis you performed in step 1.1.3 of the project, where you separated out certain data points from the dataset if they had more than a specified threshold of missing values. If you found that this group was qualitatively different from the main bulk of the data, you should treat this as an additional data cluster in this analysis. Make sure that you account for the number of data points in this subset, for both the general population and customer datasets, when making your computations!\n",
    "- Which cluster or clusters are overrepresented in the customer dataset compared to the general population? Select at least one such cluster and infer what kind of people might be represented by that cluster. Use the principal component interpretations from step 2.3 or look at additional components to help you make this inference. Alternatively, you can use the `.inverse_transform()` method of the PCA and StandardScaler objects to transform centroids back to the original data space and interpret the retrieved values directly.\n",
    "- Perform a similar investigation for the underrepresented clusters. Which cluster or clusters are underrepresented in the customer dataset compared to the general population, and what kinds of people are typified by these clusters?"
   ]
  },
  {
   "cell_type": "code",
   "execution_count": 123,
   "metadata": {},
   "outputs": [],
   "source": [
    "# Compare the proportion of data in each cluster for the customer data to the\n",
    "# proportion of data in each cluster for the general population.\n",
    "\n",
    "demographic_clusters = pd.Series(demographic_labels).value_counts().sort_index()\n",
    "demographic_clusters[-1] = 93384\n",
    "demographic_clusters.name = 'demographic'"
   ]
  },
  {
   "cell_type": "markdown",
   "metadata": {},
   "source": [
    "Here we are creating some series that contain the percent of total in the group that each cluster occupies. We also add in a cluster '-1' for the rows that were removed earlier. "
   ]
  },
  {
   "cell_type": "code",
   "execution_count": 124,
   "metadata": {},
   "outputs": [],
   "source": [
    "customer_clusters = pd.Series(customer_labels).value_counts().sort_index()\n",
    "customer_clusters[-1] = 49962\n",
    "customer_clusters.name = 'customer'"
   ]
  },
  {
   "cell_type": "markdown",
   "metadata": {},
   "source": [
    "We can check out the distribution of people over all the clusters and see where the big differences are!"
   ]
  },
  {
   "cell_type": "code",
   "execution_count": 131,
   "metadata": {},
   "outputs": [
    {
     "data": {
      "text/plain": [
       "<matplotlib.axes._subplots.AxesSubplot at 0x7f998ea98518>"
      ]
     },
     "execution_count": 131,
     "metadata": {},
     "output_type": "execute_result"
    },
    {
     "data": {
      "image/png": "[encoded data removed]",
      "text/plain": [
       "<matplotlib.figure.Figure at 0x7f998ea87668>"
      ]
     },
     "metadata": {},
     "output_type": "display_data"
    }
   ],
   "source": [
    "cluster_distribution = pd.concat([demographic_clusters / demographic_clusters.sum(),\n",
    "                                  customer_clusters / customer_clusters.sum()],\n",
    "                                 axis=1)\n",
    "cluster_distribution.plot(kind='bar', figsize=(12,8))"
   ]
  },
  {
   "cell_type": "markdown",
   "metadata": {},
   "source": [
    "Wow, it looks like there are some really big differences. Cluster 3 and -1 are both way more represented in the customers than in the overall demographics, and 0, 2, and 12 are slightly more represented.\n",
    "\n",
    "1, 6, 14, and 15 are much less represented in the customers than in overall demographics.\n",
    "\n",
    "First I'll take a look at cluster 3 and see what people are in that group. I'm going to take a look at that instead of group -1 because that one will be pretty hard to analyze and doesn't have the principle components."
   ]
  },
  {
   "cell_type": "code",
   "execution_count": 139,
   "metadata": {},
   "outputs": [
    {
     "data": {
      "text/html": [
       "<div>\n",
       "<style>\n",
       "    .dataframe thead tr:only-child th {\n",
       "        text-align: right;\n",
       "    }\n",
       "\n",
       "    .dataframe thead th {\n",
       "        text-align: left;\n",
       "    }\n",
       "\n",
       "    .dataframe tbody tr th {\n",
       "        vertical-align: top;\n",
       "    }\n",
       "</style>\n",
       "<table border=\"1\" class=\"dataframe\">\n",
       "  <thead>\n",
       "    <tr style=\"text-align: right;\">\n",
       "      <th></th>\n",
       "      <th>0</th>\n",
       "      <th>1</th>\n",
       "      <th>2</th>\n",
       "      <th>3</th>\n",
       "      <th>4</th>\n",
       "      <th>5</th>\n",
       "      <th>6</th>\n",
       "      <th>7</th>\n",
       "      <th>8</th>\n",
       "      <th>9</th>\n",
       "      <th>...</th>\n",
       "      <th>21</th>\n",
       "      <th>22</th>\n",
       "      <th>23</th>\n",
       "      <th>24</th>\n",
       "      <th>25</th>\n",
       "      <th>26</th>\n",
       "      <th>27</th>\n",
       "      <th>28</th>\n",
       "      <th>29</th>\n",
       "      <th>label</th>\n",
       "    </tr>\n",
       "  </thead>\n",
       "  <tbody>\n",
       "    <tr>\n",
       "      <th>15</th>\n",
       "      <td>-1.337126</td>\n",
       "      <td>0.989747</td>\n",
       "      <td>2.679691</td>\n",
       "      <td>4.330471</td>\n",
       "      <td>-1.941815</td>\n",
       "      <td>-0.202923</td>\n",
       "      <td>-1.097472</td>\n",
       "      <td>-0.800569</td>\n",
       "      <td>-0.456087</td>\n",
       "      <td>0.463357</td>\n",
       "      <td>...</td>\n",
       "      <td>1.146458</td>\n",
       "      <td>0.665085</td>\n",
       "      <td>1.209131</td>\n",
       "      <td>0.063376</td>\n",
       "      <td>0.851395</td>\n",
       "      <td>-0.155441</td>\n",
       "      <td>0.267457</td>\n",
       "      <td>-0.336641</td>\n",
       "      <td>-1.527768</td>\n",
       "      <td>3</td>\n",
       "    </tr>\n",
       "    <tr>\n",
       "      <th>83</th>\n",
       "      <td>-1.462255</td>\n",
       "      <td>1.712207</td>\n",
       "      <td>2.464319</td>\n",
       "      <td>1.781942</td>\n",
       "      <td>-0.530976</td>\n",
       "      <td>0.296857</td>\n",
       "      <td>0.633042</td>\n",
       "      <td>-0.822644</td>\n",
       "      <td>-0.552943</td>\n",
       "      <td>-0.751257</td>\n",
       "      <td>...</td>\n",
       "      <td>-0.854771</td>\n",
       "      <td>-0.407891</td>\n",
       "      <td>-0.630643</td>\n",
       "      <td>0.620177</td>\n",
       "      <td>-0.086835</td>\n",
       "      <td>-2.979741</td>\n",
       "      <td>-0.639883</td>\n",
       "      <td>-0.766873</td>\n",
       "      <td>-2.566828</td>\n",
       "      <td>3</td>\n",
       "    </tr>\n",
       "    <tr>\n",
       "      <th>87</th>\n",
       "      <td>-3.349216</td>\n",
       "      <td>0.739168</td>\n",
       "      <td>4.061411</td>\n",
       "      <td>1.960032</td>\n",
       "      <td>2.549654</td>\n",
       "      <td>-0.370530</td>\n",
       "      <td>-0.951143</td>\n",
       "      <td>1.438759</td>\n",
       "      <td>0.431606</td>\n",
       "      <td>-0.519056</td>\n",
       "      <td>...</td>\n",
       "      <td>-1.281681</td>\n",
       "      <td>-0.094710</td>\n",
       "      <td>0.064966</td>\n",
       "      <td>0.710267</td>\n",
       "      <td>-1.612626</td>\n",
       "      <td>-1.710572</td>\n",
       "      <td>-1.028742</td>\n",
       "      <td>-0.431076</td>\n",
       "      <td>-0.498889</td>\n",
       "      <td>3</td>\n",
       "    </tr>\n",
       "    <tr>\n",
       "      <th>98</th>\n",
       "      <td>-3.432138</td>\n",
       "      <td>0.215239</td>\n",
       "      <td>3.453895</td>\n",
       "      <td>3.728065</td>\n",
       "      <td>1.144537</td>\n",
       "      <td>-0.778395</td>\n",
       "      <td>-1.199140</td>\n",
       "      <td>0.376725</td>\n",
       "      <td>1.285512</td>\n",
       "      <td>-2.094628</td>\n",
       "      <td>...</td>\n",
       "      <td>-0.125292</td>\n",
       "      <td>0.841445</td>\n",
       "      <td>0.357095</td>\n",
       "      <td>-0.065723</td>\n",
       "      <td>-0.455835</td>\n",
       "      <td>0.615697</td>\n",
       "      <td>-0.121395</td>\n",
       "      <td>-0.111441</td>\n",
       "      <td>-1.418827</td>\n",
       "      <td>3</td>\n",
       "    </tr>\n",
       "    <tr>\n",
       "      <th>151</th>\n",
       "      <td>-6.043198</td>\n",
       "      <td>1.782014</td>\n",
       "      <td>2.650559</td>\n",
       "      <td>2.011971</td>\n",
       "      <td>-0.911566</td>\n",
       "      <td>0.423628</td>\n",
       "      <td>-0.838281</td>\n",
       "      <td>-0.228062</td>\n",
       "      <td>1.537994</td>\n",
       "      <td>-2.015342</td>\n",
       "      <td>...</td>\n",
       "      <td>-0.120088</td>\n",
       "      <td>-0.153567</td>\n",
       "      <td>-0.020880</td>\n",
       "      <td>0.080317</td>\n",
       "      <td>-0.798986</td>\n",
       "      <td>-0.099524</td>\n",
       "      <td>0.661505</td>\n",
       "      <td>0.570198</td>\n",
       "      <td>-0.337804</td>\n",
       "      <td>3</td>\n",
       "    </tr>\n",
       "  </tbody>\n",
       "</table>\n",
       "<p>5 rows × 31 columns</p>\n",
       "</div>"
      ],
      "text/plain": [
       "            0         1         2         3         4         5         6  \\\n",
       "15  -1.337126  0.989747  2.679691  4.330471 -1.941815 -0.202923 -1.097472   \n",
       "83  -1.462255  1.712207  2.464319  1.781942 -0.530976  0.296857  0.633042   \n",
       "87  -3.349216  0.739168  4.061411  1.960032  2.549654 -0.370530 -0.951143   \n",
       "98  -3.432138  0.215239  3.453895  3.728065  1.144537 -0.778395 -1.199140   \n",
       "151 -6.043198  1.782014  2.650559  2.011971 -0.911566  0.423628 -0.838281   \n",
       "\n",
       "            7         8         9  ...          21        22        23  \\\n",
       "15  -0.800569 -0.456087  0.463357  ...    1.146458  0.665085  1.209131   \n",
       "83  -0.822644 -0.552943 -0.751257  ...   -0.854771 -0.407891 -0.630643   \n",
       "87   1.438759  0.431606 -0.519056  ...   -1.281681 -0.094710  0.064966   \n",
       "98   0.376725  1.285512 -2.094628  ...   -0.125292  0.841445  0.357095   \n",
       "151 -0.228062  1.537994 -2.015342  ...   -0.120088 -0.153567 -0.020880   \n",
       "\n",
       "           24        25        26        27        28        29  label  \n",
       "15   0.063376  0.851395 -0.155441  0.267457 -0.336641 -1.527768      3  \n",
       "83   0.620177 -0.086835 -2.979741 -0.639883 -0.766873 -2.566828      3  \n",
       "87   0.710267 -1.612626 -1.710572 -1.028742 -0.431076 -0.498889      3  \n",
       "98  -0.065723 -0.455835  0.615697 -0.121395 -0.111441 -1.418827      3  \n",
       "151  0.080317 -0.798986 -0.099524  0.661505  0.570198 -0.337804      3  \n",
       "\n",
       "[5 rows x 31 columns]"
      ]
     },
     "execution_count": 139,
     "metadata": {},
     "output_type": "execute_result"
    }
   ],
   "source": [
    "# What kinds of people are part of a cluster that is overrepresented in the\n",
    "# customer data compared to the general population?\n",
    "\n",
    "demo_1 = pd.Series(demographic_labels)\n",
    "demo_1.name='label'\n",
    "\n",
    "demo = pd.concat([pd.DataFrame(X_reduced), demo_1], axis=1)\n",
    "demo[demo.label==3].head()"
   ]
  },
  {
   "cell_type": "markdown",
   "metadata": {},
   "source": [
    "I put together this dataframe which is the principle components with a label column added. Let's take a look at the 3 cluster."
   ]
  },
  {
   "cell_type": "code",
   "execution_count": 142,
   "metadata": {},
   "outputs": [
    {
     "data": {
      "text/html": [
       "<div>\n",
       "<style>\n",
       "    .dataframe thead tr:only-child th {\n",
       "        text-align: right;\n",
       "    }\n",
       "\n",
       "    .dataframe thead th {\n",
       "        text-align: left;\n",
       "    }\n",
       "\n",
       "    .dataframe tbody tr th {\n",
       "        vertical-align: top;\n",
       "    }\n",
       "</style>\n",
       "<table border=\"1\" class=\"dataframe\">\n",
       "  <thead>\n",
       "    <tr style=\"text-align: right;\">\n",
       "      <th></th>\n",
       "      <th>0</th>\n",
       "      <th>1</th>\n",
       "      <th>2</th>\n",
       "      <th>3</th>\n",
       "      <th>4</th>\n",
       "    </tr>\n",
       "  </thead>\n",
       "  <tbody>\n",
       "    <tr>\n",
       "      <th>count</th>\n",
       "      <td>32538.000000</td>\n",
       "      <td>32538.000000</td>\n",
       "      <td>32538.000000</td>\n",
       "      <td>32538.000000</td>\n",
       "      <td>32538.000000</td>\n",
       "    </tr>\n",
       "    <tr>\n",
       "      <th>mean</th>\n",
       "      <td>-4.003115</td>\n",
       "      <td>1.293332</td>\n",
       "      <td>3.389706</td>\n",
       "      <td>2.395547</td>\n",
       "      <td>-0.430014</td>\n",
       "    </tr>\n",
       "    <tr>\n",
       "      <th>std</th>\n",
       "      <td>1.552213</td>\n",
       "      <td>1.081525</td>\n",
       "      <td>0.815191</td>\n",
       "      <td>1.204609</td>\n",
       "      <td>1.524480</td>\n",
       "    </tr>\n",
       "    <tr>\n",
       "      <th>min</th>\n",
       "      <td>-8.200967</td>\n",
       "      <td>-3.384726</td>\n",
       "      <td>0.332988</td>\n",
       "      <td>-2.043428</td>\n",
       "      <td>-5.148200</td>\n",
       "    </tr>\n",
       "    <tr>\n",
       "      <th>25%</th>\n",
       "      <td>-5.155190</td>\n",
       "      <td>0.563690</td>\n",
       "      <td>2.812162</td>\n",
       "      <td>1.583409</td>\n",
       "      <td>-1.560912</td>\n",
       "    </tr>\n",
       "    <tr>\n",
       "      <th>50%</th>\n",
       "      <td>-4.169749</td>\n",
       "      <td>1.292372</td>\n",
       "      <td>3.399830</td>\n",
       "      <td>2.440395</td>\n",
       "      <td>-0.494850</td>\n",
       "    </tr>\n",
       "    <tr>\n",
       "      <th>75%</th>\n",
       "      <td>-2.988901</td>\n",
       "      <td>2.036476</td>\n",
       "      <td>3.980304</td>\n",
       "      <td>3.249812</td>\n",
       "      <td>0.686166</td>\n",
       "    </tr>\n",
       "    <tr>\n",
       "      <th>max</th>\n",
       "      <td>1.351136</td>\n",
       "      <td>4.989615</td>\n",
       "      <td>6.130730</td>\n",
       "      <td>6.480660</td>\n",
       "      <td>4.931621</td>\n",
       "    </tr>\n",
       "  </tbody>\n",
       "</table>\n",
       "</div>"
      ],
      "text/plain": [
       "                  0             1             2             3             4\n",
       "count  32538.000000  32538.000000  32538.000000  32538.000000  32538.000000\n",
       "mean      -4.003115      1.293332      3.389706      2.395547     -0.430014\n",
       "std        1.552213      1.081525      0.815191      1.204609      1.524480\n",
       "min       -8.200967     -3.384726      0.332988     -2.043428     -5.148200\n",
       "25%       -5.155190      0.563690      2.812162      1.583409     -1.560912\n",
       "50%       -4.169749      1.292372      3.399830      2.440395     -0.494850\n",
       "75%       -2.988901      2.036476      3.980304      3.249812      0.686166\n",
       "max        1.351136      4.989615      6.130730      6.480660      4.931621"
      ]
     },
     "execution_count": 142,
     "metadata": {},
     "output_type": "execute_result"
    }
   ],
   "source": [
    "demo[demo.label==3].iloc[:, :5].describe()"
   ]
  },
  {
   "cell_type": "markdown",
   "metadata": {},
   "source": [
    "For this group taking a a look at the first principle components we find:\n",
    "\n",
    "First component (0) is very negative. This indicates that the group is not living in high population density homes and areas and is doing well financially. \n",
    "\n",
    "Second component (1) is around 1 and has a large distribution. We probably capture people of all ages and mindsets, however it is slightly positive indicating a slight lean toward older people.\n",
    "\n",
    "Third component (2) is again pretty positive. This indicates that we probably cater to males and more rational, combative thinkers. Less family oriented people.\n",
    "\n",
    "Overall this means cluster three is probable a wide rande of economically well off people living in smaller households, possibly men."
   ]
  },
  {
   "cell_type": "markdown",
   "metadata": {},
   "source": [
    "Now we can take a look at cluster 14, one that is much heavier in the demographic than the customers data."
   ]
  },
  {
   "cell_type": "code",
   "execution_count": 143,
   "metadata": {},
   "outputs": [
    {
     "data": {
      "text/html": [
       "<div>\n",
       "<style>\n",
       "    .dataframe thead tr:only-child th {\n",
       "        text-align: right;\n",
       "    }\n",
       "\n",
       "    .dataframe thead th {\n",
       "        text-align: left;\n",
       "    }\n",
       "\n",
       "    .dataframe tbody tr th {\n",
       "        vertical-align: top;\n",
       "    }\n",
       "</style>\n",
       "<table border=\"1\" class=\"dataframe\">\n",
       "  <thead>\n",
       "    <tr style=\"text-align: right;\">\n",
       "      <th></th>\n",
       "      <th>0</th>\n",
       "      <th>1</th>\n",
       "      <th>2</th>\n",
       "      <th>3</th>\n",
       "      <th>4</th>\n",
       "    </tr>\n",
       "  </thead>\n",
       "  <tbody>\n",
       "    <tr>\n",
       "      <th>count</th>\n",
       "      <td>56718.000000</td>\n",
       "      <td>56718.000000</td>\n",
       "      <td>56718.000000</td>\n",
       "      <td>56718.000000</td>\n",
       "      <td>56718.000000</td>\n",
       "    </tr>\n",
       "    <tr>\n",
       "      <th>mean</th>\n",
       "      <td>2.412210</td>\n",
       "      <td>-1.760404</td>\n",
       "      <td>-2.847401</td>\n",
       "      <td>-0.046614</td>\n",
       "      <td>-0.794107</td>\n",
       "    </tr>\n",
       "    <tr>\n",
       "      <th>std</th>\n",
       "      <td>1.307578</td>\n",
       "      <td>1.334792</td>\n",
       "      <td>1.003197</td>\n",
       "      <td>1.442153</td>\n",
       "      <td>1.506850</td>\n",
       "    </tr>\n",
       "    <tr>\n",
       "      <th>min</th>\n",
       "      <td>-1.545882</td>\n",
       "      <td>-5.590643</td>\n",
       "      <td>-5.443898</td>\n",
       "      <td>-4.509206</td>\n",
       "      <td>-5.379865</td>\n",
       "    </tr>\n",
       "    <tr>\n",
       "      <th>25%</th>\n",
       "      <td>1.406882</td>\n",
       "      <td>-2.745598</td>\n",
       "      <td>-3.527645</td>\n",
       "      <td>-1.012552</td>\n",
       "      <td>-1.879563</td>\n",
       "    </tr>\n",
       "    <tr>\n",
       "      <th>50%</th>\n",
       "      <td>2.416805</td>\n",
       "      <td>-1.943693</td>\n",
       "      <td>-3.015866</td>\n",
       "      <td>-0.125515</td>\n",
       "      <td>-0.988743</td>\n",
       "    </tr>\n",
       "    <tr>\n",
       "      <th>75%</th>\n",
       "      <td>3.425924</td>\n",
       "      <td>-0.860913</td>\n",
       "      <td>-2.367320</td>\n",
       "      <td>0.767217</td>\n",
       "      <td>0.224398</td>\n",
       "    </tr>\n",
       "    <tr>\n",
       "      <th>max</th>\n",
       "      <td>6.073323</td>\n",
       "      <td>2.252187</td>\n",
       "      <td>1.162910</td>\n",
       "      <td>7.293136</td>\n",
       "      <td>5.066472</td>\n",
       "    </tr>\n",
       "  </tbody>\n",
       "</table>\n",
       "</div>"
      ],
      "text/plain": [
       "                  0             1             2             3             4\n",
       "count  56718.000000  56718.000000  56718.000000  56718.000000  56718.000000\n",
       "mean       2.412210     -1.760404     -2.847401     -0.046614     -0.794107\n",
       "std        1.307578      1.334792      1.003197      1.442153      1.506850\n",
       "min       -1.545882     -5.590643     -5.443898     -4.509206     -5.379865\n",
       "25%        1.406882     -2.745598     -3.527645     -1.012552     -1.879563\n",
       "50%        2.416805     -1.943693     -3.015866     -0.125515     -0.988743\n",
       "75%        3.425924     -0.860913     -2.367320      0.767217      0.224398\n",
       "max        6.073323      2.252187      1.162910      7.293136      5.066472"
      ]
     },
     "execution_count": 143,
     "metadata": {},
     "output_type": "execute_result"
    }
   ],
   "source": [
    "# What kinds of people are part of a cluster that is underrepresented in the\n",
    "# customer data compared to the general population?\n",
    "\n",
    "demo[demo.label==14].iloc[:, :5].describe()"
   ]
  },
  {
   "cell_type": "markdown",
   "metadata": {},
   "source": [
    "In cluster 14 we see a very different group from cluster 3.\n",
    "\n",
    "First component (0): Generally positive indicating higher population density, more people per home, and lower income. The people in this group are probably living in lower income urban environments.\n",
    "\n",
    "Second component (1). Here we have negative values, again contrasting the other cluster. This means we probably have a lean toward younger, more progressive people in this group. That also tends to correlate with worse financial situation.\n",
    "\n",
    "Third component (2) overwhelmingly negative. That means we have more family oriented people here, possible more females."
   ]
  },
  {
   "cell_type": "markdown",
   "metadata": {},
   "source": [
    "### Discussion 3.3: Compare Customer Data to Demographics Data\n",
    "\n",
    "(Double-click this cell and replace this text with your own text, reporting findings and conclusions from the clustering analysis. Can we describe segments of the population that are relatively popular with the mail-order company, or relatively unpopular with the company?)\n",
    "\n",
    "You can definitely see some patterns in which clusters support and don't support our business. This analysis can be extremely powerful in identifying customer segments, this is just a quick first pass. There could easily be weeks spend on this small segment of this dataset alone. \n",
    "\n",
    "Already using just the first three principle components we are able to segment people by age, gender, financial situation, and population density. Different clusters have clearly different values in these principle components. Although we didn't dive too deeply into each cluster or component, if I were working at a company I would try to really investigate and understand what each group really means. That would probably take weeks of just digging through the features and the data.\n",
    "\n",
    "I really enjoyed this project. Working with real data is always a challenge but this framework made it easy to follow. I love that there were pretty good results at the end, even with such a noisy dataset! I look forward to working with more data of this type in the future."
   ]
  },
  {
   "cell_type": "markdown",
   "metadata": {},
   "source": [
    "> Congratulations on making it this far in the project! Before you finish, make sure to check through the entire notebook from top to bottom to make sure that your analysis follows a logical flow and all of your findings are documented in **Discussion** cells. Once you've checked over all of your work, you should export the notebook as an HTML document to submit for evaluation. You can do this from the menu, navigating to **File -> Download as -> HTML (.html)**. You will submit both that document and this notebook for your project submission."
   ]
  }
 ],
 "metadata": {
  "kernelspec": {
   "display_name": "Python 3",
   "language": "python",
   "name": "python3"
  },
  "language_info": {
   "codemirror_mode": {
    "name": "ipython",
    "version": 3
   },
   "file_extension": ".py",
   "mimetype": "text/x-python",
   "name": "python",
   "nbconvert_exporter": "python",
   "pygments_lexer": "ipython3",
   "version": "3.6.3"
  }
 },
 "nbformat": 4,
 "nbformat_minor": 2
}
